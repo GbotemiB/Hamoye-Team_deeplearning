{
  "cells": [
    {
      "cell_type": "code",
      "execution_count": 2,
      "metadata": {
        "id": "z14hhHB4JJFk"
      },
      "outputs": [],
      "source": [
        "path = '/content/drive/MyDrive/df_combined.csv'"
      ]
    },
    {
      "cell_type": "code",
      "execution_count": 3,
      "metadata": {
        "id": "HZyrmGiqC8--"
      },
      "outputs": [],
      "source": [
        "import pandas as pd\n",
        "import numpy as np\n",
        "\n",
        "import matplotlib.pyplot as plt\n",
        "import seaborn as sns"
      ]
    },
    {
      "cell_type": "code",
      "execution_count": 4,
      "metadata": {
        "id": "GYAuVUcwJnJ_"
      },
      "outputs": [],
      "source": [
        "data = pd.read_csv(path)"
      ]
    },
    {
      "cell_type": "code",
      "execution_count": 5,
      "metadata": {
        "colab": {
          "base_uri": "https://localhost:8080/",
          "height": 270
        },
        "id": "jdeOsjOEJrto",
        "outputId": "baf67dde-b345-420a-c105-77338fd314b8"
      },
      "outputs": [
        {
          "output_type": "execute_result",
          "data": {
            "text/plain": [
              "  Classification_Size Classification_Focus Research_Intensity Status  \\\n",
              "0                   M                   CO                 VH      B   \n",
              "1                   L                   FC                 VH      B   \n",
              "2                   L                   FC                 VH      B   \n",
              "3                   S                   CO                 VH      B   \n",
              "4                   L                   FC                 VH      A   \n",
              "\n",
              "   Academic_Reputation_Score  Employer_Reputation_Score  \\\n",
              "0                      100.0                      100.0   \n",
              "1                      100.0                      100.0   \n",
              "2                      100.0                      100.0   \n",
              "3                       99.5                       85.4   \n",
              "4                      100.0                      100.0   \n",
              "\n",
              "   Faculty_Student_Score  Citations_Per_Faculty_Score  \\\n",
              "0                  100.0                         99.9   \n",
              "1                  100.0                         99.4   \n",
              "2                   98.3                         99.9   \n",
              "3                  100.0                        100.0   \n",
              "4                  100.0                         78.3   \n",
              "\n",
              "   International_Faculty_Score  International_Student_Score  Overall_Score  \n",
              "0                        100.0                         96.1          100.0  \n",
              "1                         99.6                         72.7           98.7  \n",
              "2                         96.5                         75.2           98.4  \n",
              "3                         93.4                         89.2           97.7  \n",
              "4                         97.4                         97.7           95.6  "
            ],
            "text/html": [
              "\n",
              "  <div id=\"df-a714e315-9f9d-4f26-a859-7eaf8b506227\">\n",
              "    <div class=\"colab-df-container\">\n",
              "      <div>\n",
              "<style scoped>\n",
              "    .dataframe tbody tr th:only-of-type {\n",
              "        vertical-align: middle;\n",
              "    }\n",
              "\n",
              "    .dataframe tbody tr th {\n",
              "        vertical-align: top;\n",
              "    }\n",
              "\n",
              "    .dataframe thead th {\n",
              "        text-align: right;\n",
              "    }\n",
              "</style>\n",
              "<table border=\"1\" class=\"dataframe\">\n",
              "  <thead>\n",
              "    <tr style=\"text-align: right;\">\n",
              "      <th></th>\n",
              "      <th>Classification_Size</th>\n",
              "      <th>Classification_Focus</th>\n",
              "      <th>Research_Intensity</th>\n",
              "      <th>Status</th>\n",
              "      <th>Academic_Reputation_Score</th>\n",
              "      <th>Employer_Reputation_Score</th>\n",
              "      <th>Faculty_Student_Score</th>\n",
              "      <th>Citations_Per_Faculty_Score</th>\n",
              "      <th>International_Faculty_Score</th>\n",
              "      <th>International_Student_Score</th>\n",
              "      <th>Overall_Score</th>\n",
              "    </tr>\n",
              "  </thead>\n",
              "  <tbody>\n",
              "    <tr>\n",
              "      <th>0</th>\n",
              "      <td>M</td>\n",
              "      <td>CO</td>\n",
              "      <td>VH</td>\n",
              "      <td>B</td>\n",
              "      <td>100.0</td>\n",
              "      <td>100.0</td>\n",
              "      <td>100.0</td>\n",
              "      <td>99.9</td>\n",
              "      <td>100.0</td>\n",
              "      <td>96.1</td>\n",
              "      <td>100.0</td>\n",
              "    </tr>\n",
              "    <tr>\n",
              "      <th>1</th>\n",
              "      <td>L</td>\n",
              "      <td>FC</td>\n",
              "      <td>VH</td>\n",
              "      <td>B</td>\n",
              "      <td>100.0</td>\n",
              "      <td>100.0</td>\n",
              "      <td>100.0</td>\n",
              "      <td>99.4</td>\n",
              "      <td>99.6</td>\n",
              "      <td>72.7</td>\n",
              "      <td>98.7</td>\n",
              "    </tr>\n",
              "    <tr>\n",
              "      <th>2</th>\n",
              "      <td>L</td>\n",
              "      <td>FC</td>\n",
              "      <td>VH</td>\n",
              "      <td>B</td>\n",
              "      <td>100.0</td>\n",
              "      <td>100.0</td>\n",
              "      <td>98.3</td>\n",
              "      <td>99.9</td>\n",
              "      <td>96.5</td>\n",
              "      <td>75.2</td>\n",
              "      <td>98.4</td>\n",
              "    </tr>\n",
              "    <tr>\n",
              "      <th>3</th>\n",
              "      <td>S</td>\n",
              "      <td>CO</td>\n",
              "      <td>VH</td>\n",
              "      <td>B</td>\n",
              "      <td>99.5</td>\n",
              "      <td>85.4</td>\n",
              "      <td>100.0</td>\n",
              "      <td>100.0</td>\n",
              "      <td>93.4</td>\n",
              "      <td>89.2</td>\n",
              "      <td>97.7</td>\n",
              "    </tr>\n",
              "    <tr>\n",
              "      <th>4</th>\n",
              "      <td>L</td>\n",
              "      <td>FC</td>\n",
              "      <td>VH</td>\n",
              "      <td>A</td>\n",
              "      <td>100.0</td>\n",
              "      <td>100.0</td>\n",
              "      <td>100.0</td>\n",
              "      <td>78.3</td>\n",
              "      <td>97.4</td>\n",
              "      <td>97.7</td>\n",
              "      <td>95.6</td>\n",
              "    </tr>\n",
              "  </tbody>\n",
              "</table>\n",
              "</div>\n",
              "      <button class=\"colab-df-convert\" onclick=\"convertToInteractive('df-a714e315-9f9d-4f26-a859-7eaf8b506227')\"\n",
              "              title=\"Convert this dataframe to an interactive table.\"\n",
              "              style=\"display:none;\">\n",
              "        \n",
              "  <svg xmlns=\"http://www.w3.org/2000/svg\" height=\"24px\"viewBox=\"0 0 24 24\"\n",
              "       width=\"24px\">\n",
              "    <path d=\"M0 0h24v24H0V0z\" fill=\"none\"/>\n",
              "    <path d=\"M18.56 5.44l.94 2.06.94-2.06 2.06-.94-2.06-.94-.94-2.06-.94 2.06-2.06.94zm-11 1L8.5 8.5l.94-2.06 2.06-.94-2.06-.94L8.5 2.5l-.94 2.06-2.06.94zm10 10l.94 2.06.94-2.06 2.06-.94-2.06-.94-.94-2.06-.94 2.06-2.06.94z\"/><path d=\"M17.41 7.96l-1.37-1.37c-.4-.4-.92-.59-1.43-.59-.52 0-1.04.2-1.43.59L10.3 9.45l-7.72 7.72c-.78.78-.78 2.05 0 2.83L4 21.41c.39.39.9.59 1.41.59.51 0 1.02-.2 1.41-.59l7.78-7.78 2.81-2.81c.8-.78.8-2.07 0-2.86zM5.41 20L4 18.59l7.72-7.72 1.47 1.35L5.41 20z\"/>\n",
              "  </svg>\n",
              "      </button>\n",
              "      \n",
              "  <style>\n",
              "    .colab-df-container {\n",
              "      display:flex;\n",
              "      flex-wrap:wrap;\n",
              "      gap: 12px;\n",
              "    }\n",
              "\n",
              "    .colab-df-convert {\n",
              "      background-color: #E8F0FE;\n",
              "      border: none;\n",
              "      border-radius: 50%;\n",
              "      cursor: pointer;\n",
              "      display: none;\n",
              "      fill: #1967D2;\n",
              "      height: 32px;\n",
              "      padding: 0 0 0 0;\n",
              "      width: 32px;\n",
              "    }\n",
              "\n",
              "    .colab-df-convert:hover {\n",
              "      background-color: #E2EBFA;\n",
              "      box-shadow: 0px 1px 2px rgba(60, 64, 67, 0.3), 0px 1px 3px 1px rgba(60, 64, 67, 0.15);\n",
              "      fill: #174EA6;\n",
              "    }\n",
              "\n",
              "    [theme=dark] .colab-df-convert {\n",
              "      background-color: #3B4455;\n",
              "      fill: #D2E3FC;\n",
              "    }\n",
              "\n",
              "    [theme=dark] .colab-df-convert:hover {\n",
              "      background-color: #434B5C;\n",
              "      box-shadow: 0px 1px 3px 1px rgba(0, 0, 0, 0.15);\n",
              "      filter: drop-shadow(0px 1px 2px rgba(0, 0, 0, 0.3));\n",
              "      fill: #FFFFFF;\n",
              "    }\n",
              "  </style>\n",
              "\n",
              "      <script>\n",
              "        const buttonEl =\n",
              "          document.querySelector('#df-a714e315-9f9d-4f26-a859-7eaf8b506227 button.colab-df-convert');\n",
              "        buttonEl.style.display =\n",
              "          google.colab.kernel.accessAllowed ? 'block' : 'none';\n",
              "\n",
              "        async function convertToInteractive(key) {\n",
              "          const element = document.querySelector('#df-a714e315-9f9d-4f26-a859-7eaf8b506227');\n",
              "          const dataTable =\n",
              "            await google.colab.kernel.invokeFunction('convertToInteractive',\n",
              "                                                     [key], {});\n",
              "          if (!dataTable) return;\n",
              "\n",
              "          const docLinkHtml = 'Like what you see? Visit the ' +\n",
              "            '<a target=\"_blank\" href=https://colab.research.google.com/notebooks/data_table.ipynb>data table notebook</a>'\n",
              "            + ' to learn more about interactive tables.';\n",
              "          element.innerHTML = '';\n",
              "          dataTable['output_type'] = 'display_data';\n",
              "          await google.colab.output.renderOutput(dataTable, element);\n",
              "          const docLink = document.createElement('div');\n",
              "          docLink.innerHTML = docLinkHtml;\n",
              "          element.appendChild(docLink);\n",
              "        }\n",
              "      </script>\n",
              "    </div>\n",
              "  </div>\n",
              "  "
            ]
          },
          "metadata": {},
          "execution_count": 5
        }
      ],
      "source": [
        "data.head()"
      ]
    },
    {
      "cell_type": "markdown",
      "metadata": {
        "id": "zJ0poVf6KgkN"
      },
      "source": [
        "#Regression problem\n",
        "\n",
        "* deal with categorical columns with label encoder\n",
        "* import necessary libraries\n",
        "* use mlflow to track experiment\n",
        "* use cross validation\n",
        "\n",
        "\n",
        "\n"
      ]
    },
    {
      "cell_type": "code",
      "execution_count": 6,
      "metadata": {
        "id": "aBQHZgrjJtOn"
      },
      "outputs": [],
      "source": [
        "cat_columns = ['Classification_Size', 'Classification_Focus', 'Research_Intensity', 'Status']"
      ]
    },
    {
      "cell_type": "code",
      "execution_count": 7,
      "metadata": {
        "colab": {
          "base_uri": "https://localhost:8080/"
        },
        "id": "8NmaoGmBOeBx",
        "outputId": "63d7c69c-33fd-4b1e-fe93-c3affc8b4047"
      },
      "outputs": [
        {
          "output_type": "execute_result",
          "data": {
            "text/plain": [
              "A    2080\n",
              "B     405\n",
              "C      18\n",
              "Name: Status, dtype: int64"
            ]
          },
          "metadata": {},
          "execution_count": 7
        }
      ],
      "source": [
        "data[cat_columns[3]].value_counts()\n"
      ]
    },
    {
      "cell_type": "markdown",
      "metadata": {
        "id": "_x-h-nvuSnOM"
      },
      "source": [
        "##Visualizing the data"
      ]
    },
    {
      "cell_type": "code",
      "execution_count": 8,
      "metadata": {
        "colab": {
          "base_uri": "https://localhost:8080/"
        },
        "id": "sCU04dkGSm4Y",
        "outputId": "a72065f1-b4ea-4570-9a0b-66e2dddd34ae"
      },
      "outputs": [
        {
          "output_type": "execute_result",
          "data": {
            "text/plain": [
              "Index(['Classification_Size', 'Classification_Focus', 'Research_Intensity',\n",
              "       'Status', 'Academic_Reputation_Score', 'Employer_Reputation_Score',\n",
              "       'Faculty_Student_Score', 'Citations_Per_Faculty_Score',\n",
              "       'International_Faculty_Score', 'International_Student_Score',\n",
              "       'Overall_Score'],\n",
              "      dtype='object')"
            ]
          },
          "metadata": {},
          "execution_count": 8
        }
      ],
      "source": [
        "data.columns"
      ]
    },
    {
      "cell_type": "code",
      "execution_count": 9,
      "metadata": {
        "colab": {
          "base_uri": "https://localhost:8080/",
          "height": 352
        },
        "id": "J1JuV4wASmjJ",
        "outputId": "b267ded1-da81-4684-85d0-1a6c4ccb4eac"
      },
      "outputs": [
        {
          "output_type": "stream",
          "name": "stderr",
          "text": [
            "/usr/local/lib/python3.7/dist-packages/seaborn/_decorators.py:43: FutureWarning: Pass the following variable as a keyword arg: x. From version 0.12, the only valid positional argument will be `data`, and passing other arguments without an explicit keyword will result in an error or misinterpretation.\n",
            "  FutureWarning\n"
          ]
        },
        {
          "output_type": "execute_result",
          "data": {
            "text/plain": [
              "<matplotlib.axes._subplots.AxesSubplot at 0x7f53ffc46250>"
            ]
          },
          "metadata": {},
          "execution_count": 9
        },
        {
          "output_type": "display_data",
          "data": {
            "text/plain": [
              "<Figure size 432x288 with 1 Axes>"
            ],
            "image/png": "[encoded data removed]"
          },
          "metadata": {
            "needs_background": "light"
          }
        }
      ],
      "source": [
        "sns.countplot(data['Classification_Size'])"
      ]
    },
    {
      "cell_type": "code",
      "execution_count": 10,
      "metadata": {
        "colab": {
          "base_uri": "https://localhost:8080/",
          "height": 352
        },
        "id": "jZpS5Q-iSurq",
        "outputId": "7e33db63-3b89-4d22-cd16-2f2fd5dc0598"
      },
      "outputs": [
        {
          "output_type": "stream",
          "name": "stderr",
          "text": [
            "/usr/local/lib/python3.7/dist-packages/seaborn/_decorators.py:43: FutureWarning: Pass the following variable as a keyword arg: x. From version 0.12, the only valid positional argument will be `data`, and passing other arguments without an explicit keyword will result in an error or misinterpretation.\n",
            "  FutureWarning\n"
          ]
        },
        {
          "output_type": "execute_result",
          "data": {
            "text/plain": [
              "<matplotlib.axes._subplots.AxesSubplot at 0x7f53ff2a57d0>"
            ]
          },
          "metadata": {},
          "execution_count": 10
        },
        {
          "output_type": "display_data",
          "data": {
            "text/plain": [
              "<Figure size 432x288 with 1 Axes>"
            ],
            "image/png": "[encoded data removed]"
          },
          "metadata": {
            "needs_background": "light"
          }
        }
      ],
      "source": [
        "sns.countplot(data['Classification_Focus'])"
      ]
    },
    {
      "cell_type": "code",
      "execution_count": 11,
      "metadata": {
        "colab": {
          "base_uri": "https://localhost:8080/",
          "height": 352
        },
        "id": "th3NUA2wSyFR",
        "outputId": "e04148d0-685d-43d1-ddfa-6bf4c8e15c6e"
      },
      "outputs": [
        {
          "output_type": "stream",
          "name": "stderr",
          "text": [
            "/usr/local/lib/python3.7/dist-packages/seaborn/_decorators.py:43: FutureWarning: Pass the following variable as a keyword arg: x. From version 0.12, the only valid positional argument will be `data`, and passing other arguments without an explicit keyword will result in an error or misinterpretation.\n",
            "  FutureWarning\n"
          ]
        },
        {
          "output_type": "execute_result",
          "data": {
            "text/plain": [
              "<matplotlib.axes._subplots.AxesSubplot at 0x7f53feddcc90>"
            ]
          },
          "metadata": {},
          "execution_count": 11
        },
        {
          "output_type": "display_data",
          "data": {
            "text/plain": [
              "<Figure size 432x288 with 1 Axes>"
            ],
            "image/png": "[encoded data removed]"
          },
          "metadata": {
            "needs_background": "light"
          }
        }
      ],
      "source": [
        "sns.countplot(data['Research_Intensity'])"
      ]
    },
    {
      "cell_type": "code",
      "execution_count": 12,
      "metadata": {
        "colab": {
          "base_uri": "https://localhost:8080/",
          "height": 351
        },
        "id": "zGVoiQLITIG1",
        "outputId": "e1017631-6d86-475e-cd7e-c49fc80fb184"
      },
      "outputs": [
        {
          "output_type": "stream",
          "name": "stderr",
          "text": [
            "/usr/local/lib/python3.7/dist-packages/seaborn/_decorators.py:43: FutureWarning: Pass the following variable as a keyword arg: x. From version 0.12, the only valid positional argument will be `data`, and passing other arguments without an explicit keyword will result in an error or misinterpretation.\n",
            "  FutureWarning\n"
          ]
        },
        {
          "output_type": "execute_result",
          "data": {
            "text/plain": [
              "<matplotlib.axes._subplots.AxesSubplot at 0x7f53fed45d90>"
            ]
          },
          "metadata": {},
          "execution_count": 12
        },
        {
          "output_type": "display_data",
          "data": {
            "text/plain": [
              "<Figure size 432x288 with 1 Axes>"
            ],
            "image/png": "[encoded data removed]"
          },
          "metadata": {
            "needs_background": "light"
          }
        }
      ],
      "source": [
        "sns.countplot(data['Status'])"
      ]
    },
    {
      "cell_type": "code",
      "execution_count": 13,
      "metadata": {
        "colab": {
          "base_uri": "https://localhost:8080/",
          "height": 352
        },
        "id": "knRvQ4QTU3wG",
        "outputId": "dfed3a54-341b-420a-ec47-6ed76afdda45"
      },
      "outputs": [
        {
          "output_type": "stream",
          "name": "stderr",
          "text": [
            "/usr/local/lib/python3.7/dist-packages/seaborn/_decorators.py:43: FutureWarning: Pass the following variable as a keyword arg: x. From version 0.12, the only valid positional argument will be `data`, and passing other arguments without an explicit keyword will result in an error or misinterpretation.\n",
            "  FutureWarning\n"
          ]
        },
        {
          "output_type": "execute_result",
          "data": {
            "text/plain": [
              "<matplotlib.axes._subplots.AxesSubplot at 0x7f53fed27d10>"
            ]
          },
          "metadata": {},
          "execution_count": 13
        },
        {
          "output_type": "display_data",
          "data": {
            "text/plain": [
              "<Figure size 432x288 with 1 Axes>"
            ],
            "image/png": "[encoded data removed]"
          },
          "metadata": {
            "needs_background": "light"
          }
        }
      ],
      "source": [
        "sns.boxplot(data['Academic_Reputation_Score'])"
      ]
    },
    {
      "cell_type": "code",
      "execution_count": 14,
      "metadata": {
        "colab": {
          "base_uri": "https://localhost:8080/",
          "height": 352
        },
        "id": "jz03nKHHVJi0",
        "outputId": "4134acc1-6707-4d4e-9b4e-d95a46e01add"
      },
      "outputs": [
        {
          "output_type": "stream",
          "name": "stderr",
          "text": [
            "/usr/local/lib/python3.7/dist-packages/seaborn/_decorators.py:43: FutureWarning: Pass the following variable as a keyword arg: x. From version 0.12, the only valid positional argument will be `data`, and passing other arguments without an explicit keyword will result in an error or misinterpretation.\n",
            "  FutureWarning\n"
          ]
        },
        {
          "output_type": "execute_result",
          "data": {
            "text/plain": [
              "<matplotlib.axes._subplots.AxesSubplot at 0x7f53feca70d0>"
            ]
          },
          "metadata": {},
          "execution_count": 14
        },
        {
          "output_type": "display_data",
          "data": {
            "text/plain": [
              "<Figure size 432x288 with 1 Axes>"
            ],
            "image/png": "[encoded data removed]"
          },
          "metadata": {
            "needs_background": "light"
          }
        }
      ],
      "source": [
        "sns.boxplot(data['Employer_Reputation_Score'])"
      ]
    },
    {
      "cell_type": "code",
      "execution_count": 15,
      "metadata": {
        "colab": {
          "base_uri": "https://localhost:8080/",
          "height": 352
        },
        "id": "R30WhlBZVXbM",
        "outputId": "12c96b5e-e7ad-4496-e86d-a03b469ffc06"
      },
      "outputs": [
        {
          "output_type": "stream",
          "name": "stderr",
          "text": [
            "/usr/local/lib/python3.7/dist-packages/seaborn/_decorators.py:43: FutureWarning: Pass the following variable as a keyword arg: x. From version 0.12, the only valid positional argument will be `data`, and passing other arguments without an explicit keyword will result in an error or misinterpretation.\n",
            "  FutureWarning\n"
          ]
        },
        {
          "output_type": "execute_result",
          "data": {
            "text/plain": [
              "<matplotlib.axes._subplots.AxesSubplot at 0x7f53fec03c10>"
            ]
          },
          "metadata": {},
          "execution_count": 15
        },
        {
          "output_type": "display_data",
          "data": {
            "text/plain": [
              "<Figure size 432x288 with 1 Axes>"
            ],
            "image/png": "[encoded data removed]"
          },
          "metadata": {
            "needs_background": "light"
          }
        }
      ],
      "source": [
        "sns.boxplot(data['Faculty_Student_Score'])"
      ]
    },
    {
      "cell_type": "code",
      "execution_count": 16,
      "metadata": {
        "colab": {
          "base_uri": "https://localhost:8080/",
          "height": 352
        },
        "id": "JHRlfbmUVcyI",
        "outputId": "0f3fb910-a4e8-4cb3-c9eb-fcf14f4f36a9"
      },
      "outputs": [
        {
          "output_type": "stream",
          "name": "stderr",
          "text": [
            "/usr/local/lib/python3.7/dist-packages/seaborn/_decorators.py:43: FutureWarning: Pass the following variable as a keyword arg: x. From version 0.12, the only valid positional argument will be `data`, and passing other arguments without an explicit keyword will result in an error or misinterpretation.\n",
            "  FutureWarning\n"
          ]
        },
        {
          "output_type": "execute_result",
          "data": {
            "text/plain": [
              "<matplotlib.axes._subplots.AxesSubplot at 0x7f53febf43d0>"
            ]
          },
          "metadata": {},
          "execution_count": 16
        },
        {
          "output_type": "display_data",
          "data": {
            "text/plain": [
              "<Figure size 432x288 with 1 Axes>"
            ],
            "image/png": "[encoded data removed]"
          },
          "metadata": {
            "needs_background": "light"
          }
        }
      ],
      "source": [
        "sns.boxplot(data['Citations_Per_Faculty_Score'])"
      ]
    },
    {
      "cell_type": "code",
      "execution_count": 17,
      "metadata": {
        "colab": {
          "base_uri": "https://localhost:8080/",
          "height": 352
        },
        "id": "5PpKkGdJVh-h",
        "outputId": "bc51e6bf-c631-4e46-bcfb-5edb63e458b4"
      },
      "outputs": [
        {
          "output_type": "stream",
          "name": "stderr",
          "text": [
            "/usr/local/lib/python3.7/dist-packages/seaborn/distributions.py:2619: FutureWarning: `distplot` is a deprecated function and will be removed in a future version. Please adapt your code to use either `displot` (a figure-level function with similar flexibility) or `histplot` (an axes-level function for histograms).\n",
            "  warnings.warn(msg, FutureWarning)\n"
          ]
        },
        {
          "output_type": "execute_result",
          "data": {
            "text/plain": [
              "<matplotlib.axes._subplots.AxesSubplot at 0x7f53feb2e410>"
            ]
          },
          "metadata": {},
          "execution_count": 17
        },
        {
          "output_type": "display_data",
          "data": {
            "text/plain": [
              "<Figure size 432x288 with 1 Axes>"
            ],
            "image/png": "[encoded data removed]"
          },
          "metadata": {
            "needs_background": "light"
          }
        }
      ],
      "source": [
        "sns.distplot(data['International_Faculty_Score'])"
      ]
    },
    {
      "cell_type": "code",
      "execution_count": 18,
      "metadata": {
        "colab": {
          "base_uri": "https://localhost:8080/",
          "height": 352
        },
        "id": "K01_3FACVmZc",
        "outputId": "72beca4c-f3f2-4794-eda8-693883745979"
      },
      "outputs": [
        {
          "output_type": "stream",
          "name": "stderr",
          "text": [
            "/usr/local/lib/python3.7/dist-packages/seaborn/distributions.py:2619: FutureWarning: `distplot` is a deprecated function and will be removed in a future version. Please adapt your code to use either `displot` (a figure-level function with similar flexibility) or `histplot` (an axes-level function for histograms).\n",
            "  warnings.warn(msg, FutureWarning)\n"
          ]
        },
        {
          "output_type": "execute_result",
          "data": {
            "text/plain": [
              "<matplotlib.axes._subplots.AxesSubplot at 0x7f53fea05910>"
            ]
          },
          "metadata": {},
          "execution_count": 18
        },
        {
          "output_type": "display_data",
          "data": {
            "text/plain": [
              "<Figure size 432x288 with 1 Axes>"
            ],
            "image/png": "[encoded data removed]"
          },
          "metadata": {
            "needs_background": "light"
          }
        }
      ],
      "source": [
        "sns.distplot(data['International_Student_Score'])"
      ]
    },
    {
      "cell_type": "code",
      "execution_count": 19,
      "metadata": {
        "colab": {
          "base_uri": "https://localhost:8080/",
          "height": 352
        },
        "id": "3hllP_7_VrRk",
        "outputId": "28b632d9-3d92-477a-fa95-76090a656c36"
      },
      "outputs": [
        {
          "output_type": "stream",
          "name": "stderr",
          "text": [
            "/usr/local/lib/python3.7/dist-packages/seaborn/distributions.py:2619: FutureWarning: `distplot` is a deprecated function and will be removed in a future version. Please adapt your code to use either `displot` (a figure-level function with similar flexibility) or `histplot` (an axes-level function for histograms).\n",
            "  warnings.warn(msg, FutureWarning)\n"
          ]
        },
        {
          "output_type": "execute_result",
          "data": {
            "text/plain": [
              "<matplotlib.axes._subplots.AxesSubplot at 0x7f53fe9d8810>"
            ]
          },
          "metadata": {},
          "execution_count": 19
        },
        {
          "output_type": "display_data",
          "data": {
            "text/plain": [
              "<Figure size 432x288 with 1 Axes>"
            ],
            "image/png": "[encoded data removed]"
          },
          "metadata": {
            "needs_background": "light"
          }
        }
      ],
      "source": [
        "sns.distplot(data['Overall_Score'])"
      ]
    },
    {
      "cell_type": "code",
      "execution_count": 20,
      "metadata": {
        "id": "FRHbzVFjVPrq"
      },
      "outputs": [],
      "source": [
        "#'Faculty_Student_Score', 'Citations_Per_Faculty_Score',\n",
        "#       'International_Faculty_Score', 'International_Student_Score',\n",
        "#       'Overall_Score'"
      ]
    },
    {
      "cell_type": "markdown",
      "metadata": {
        "id": "GZjtmSbCO3ZX"
      },
      "source": [
        "## dealing with categorical data"
      ]
    },
    {
      "cell_type": "code",
      "execution_count": 21,
      "metadata": {
        "id": "7uVd06D_OjE1"
      },
      "outputs": [],
      "source": [
        "from sklearn.preprocessing import LabelEncoder"
      ]
    },
    {
      "cell_type": "code",
      "execution_count": 22,
      "metadata": {
        "id": "Uajk51FfPDqQ"
      },
      "outputs": [],
      "source": [
        "le = LabelEncoder()\n",
        "for i in cat_columns:\n",
        "  data[i] = le.fit_transform(data[i])\n",
        "  #score_mapping = dict(zip(le.classes_, range(len(le.classes_))))\n",
        "\n",
        "#score_mapping"
      ]
    },
    {
      "cell_type": "code",
      "execution_count": 23,
      "metadata": {
        "colab": {
          "base_uri": "https://localhost:8080/",
          "height": 0
        },
        "id": "2sauotxVPYDW",
        "outputId": "2b38edbc-c9f1-44cb-ddc7-3638ce5c5a22"
      },
      "outputs": [
        {
          "output_type": "execute_result",
          "data": {
            "text/plain": [
              "   Classification_Size  Classification_Focus  Research_Intensity  Status  \\\n",
              "0                    1                     0                   3       1   \n",
              "1                    0                     1                   3       1   \n",
              "2                    0                     1                   3       1   \n",
              "3                    2                     0                   3       1   \n",
              "4                    0                     1                   3       0   \n",
              "\n",
              "   Academic_Reputation_Score  Employer_Reputation_Score  \\\n",
              "0                      100.0                      100.0   \n",
              "1                      100.0                      100.0   \n",
              "2                      100.0                      100.0   \n",
              "3                       99.5                       85.4   \n",
              "4                      100.0                      100.0   \n",
              "\n",
              "   Faculty_Student_Score  Citations_Per_Faculty_Score  \\\n",
              "0                  100.0                         99.9   \n",
              "1                  100.0                         99.4   \n",
              "2                   98.3                         99.9   \n",
              "3                  100.0                        100.0   \n",
              "4                  100.0                         78.3   \n",
              "\n",
              "   International_Faculty_Score  International_Student_Score  Overall_Score  \n",
              "0                        100.0                         96.1          100.0  \n",
              "1                         99.6                         72.7           98.7  \n",
              "2                         96.5                         75.2           98.4  \n",
              "3                         93.4                         89.2           97.7  \n",
              "4                         97.4                         97.7           95.6  "
            ],
            "text/html": [
              "\n",
              "  <div id=\"df-61f029cc-cf53-4738-89b9-30790a66f519\">\n",
              "    <div class=\"colab-df-container\">\n",
              "      <div>\n",
              "<style scoped>\n",
              "    .dataframe tbody tr th:only-of-type {\n",
              "        vertical-align: middle;\n",
              "    }\n",
              "\n",
              "    .dataframe tbody tr th {\n",
              "        vertical-align: top;\n",
              "    }\n",
              "\n",
              "    .dataframe thead th {\n",
              "        text-align: right;\n",
              "    }\n",
              "</style>\n",
              "<table border=\"1\" class=\"dataframe\">\n",
              "  <thead>\n",
              "    <tr style=\"text-align: right;\">\n",
              "      <th></th>\n",
              "      <th>Classification_Size</th>\n",
              "      <th>Classification_Focus</th>\n",
              "      <th>Research_Intensity</th>\n",
              "      <th>Status</th>\n",
              "      <th>Academic_Reputation_Score</th>\n",
              "      <th>Employer_Reputation_Score</th>\n",
              "      <th>Faculty_Student_Score</th>\n",
              "      <th>Citations_Per_Faculty_Score</th>\n",
              "      <th>International_Faculty_Score</th>\n",
              "      <th>International_Student_Score</th>\n",
              "      <th>Overall_Score</th>\n",
              "    </tr>\n",
              "  </thead>\n",
              "  <tbody>\n",
              "    <tr>\n",
              "      <th>0</th>\n",
              "      <td>1</td>\n",
              "      <td>0</td>\n",
              "      <td>3</td>\n",
              "      <td>1</td>\n",
              "      <td>100.0</td>\n",
              "      <td>100.0</td>\n",
              "      <td>100.0</td>\n",
              "      <td>99.9</td>\n",
              "      <td>100.0</td>\n",
              "      <td>96.1</td>\n",
              "      <td>100.0</td>\n",
              "    </tr>\n",
              "    <tr>\n",
              "      <th>1</th>\n",
              "      <td>0</td>\n",
              "      <td>1</td>\n",
              "      <td>3</td>\n",
              "      <td>1</td>\n",
              "      <td>100.0</td>\n",
              "      <td>100.0</td>\n",
              "      <td>100.0</td>\n",
              "      <td>99.4</td>\n",
              "      <td>99.6</td>\n",
              "      <td>72.7</td>\n",
              "      <td>98.7</td>\n",
              "    </tr>\n",
              "    <tr>\n",
              "      <th>2</th>\n",
              "      <td>0</td>\n",
              "      <td>1</td>\n",
              "      <td>3</td>\n",
              "      <td>1</td>\n",
              "      <td>100.0</td>\n",
              "      <td>100.0</td>\n",
              "      <td>98.3</td>\n",
              "      <td>99.9</td>\n",
              "      <td>96.5</td>\n",
              "      <td>75.2</td>\n",
              "      <td>98.4</td>\n",
              "    </tr>\n",
              "    <tr>\n",
              "      <th>3</th>\n",
              "      <td>2</td>\n",
              "      <td>0</td>\n",
              "      <td>3</td>\n",
              "      <td>1</td>\n",
              "      <td>99.5</td>\n",
              "      <td>85.4</td>\n",
              "      <td>100.0</td>\n",
              "      <td>100.0</td>\n",
              "      <td>93.4</td>\n",
              "      <td>89.2</td>\n",
              "      <td>97.7</td>\n",
              "    </tr>\n",
              "    <tr>\n",
              "      <th>4</th>\n",
              "      <td>0</td>\n",
              "      <td>1</td>\n",
              "      <td>3</td>\n",
              "      <td>0</td>\n",
              "      <td>100.0</td>\n",
              "      <td>100.0</td>\n",
              "      <td>100.0</td>\n",
              "      <td>78.3</td>\n",
              "      <td>97.4</td>\n",
              "      <td>97.7</td>\n",
              "      <td>95.6</td>\n",
              "    </tr>\n",
              "  </tbody>\n",
              "</table>\n",
              "</div>\n",
              "      <button class=\"colab-df-convert\" onclick=\"convertToInteractive('df-61f029cc-cf53-4738-89b9-30790a66f519')\"\n",
              "              title=\"Convert this dataframe to an interactive table.\"\n",
              "              style=\"display:none;\">\n",
              "        \n",
              "  <svg xmlns=\"http://www.w3.org/2000/svg\" height=\"24px\"viewBox=\"0 0 24 24\"\n",
              "       width=\"24px\">\n",
              "    <path d=\"M0 0h24v24H0V0z\" fill=\"none\"/>\n",
              "    <path d=\"M18.56 5.44l.94 2.06.94-2.06 2.06-.94-2.06-.94-.94-2.06-.94 2.06-2.06.94zm-11 1L8.5 8.5l.94-2.06 2.06-.94-2.06-.94L8.5 2.5l-.94 2.06-2.06.94zm10 10l.94 2.06.94-2.06 2.06-.94-2.06-.94-.94-2.06-.94 2.06-2.06.94z\"/><path d=\"M17.41 7.96l-1.37-1.37c-.4-.4-.92-.59-1.43-.59-.52 0-1.04.2-1.43.59L10.3 9.45l-7.72 7.72c-.78.78-.78 2.05 0 2.83L4 21.41c.39.39.9.59 1.41.59.51 0 1.02-.2 1.41-.59l7.78-7.78 2.81-2.81c.8-.78.8-2.07 0-2.86zM5.41 20L4 18.59l7.72-7.72 1.47 1.35L5.41 20z\"/>\n",
              "  </svg>\n",
              "      </button>\n",
              "      \n",
              "  <style>\n",
              "    .colab-df-container {\n",
              "      display:flex;\n",
              "      flex-wrap:wrap;\n",
              "      gap: 12px;\n",
              "    }\n",
              "\n",
              "    .colab-df-convert {\n",
              "      background-color: #E8F0FE;\n",
              "      border: none;\n",
              "      border-radius: 50%;\n",
              "      cursor: pointer;\n",
              "      display: none;\n",
              "      fill: #1967D2;\n",
              "      height: 32px;\n",
              "      padding: 0 0 0 0;\n",
              "      width: 32px;\n",
              "    }\n",
              "\n",
              "    .colab-df-convert:hover {\n",
              "      background-color: #E2EBFA;\n",
              "      box-shadow: 0px 1px 2px rgba(60, 64, 67, 0.3), 0px 1px 3px 1px rgba(60, 64, 67, 0.15);\n",
              "      fill: #174EA6;\n",
              "    }\n",
              "\n",
              "    [theme=dark] .colab-df-convert {\n",
              "      background-color: #3B4455;\n",
              "      fill: #D2E3FC;\n",
              "    }\n",
              "\n",
              "    [theme=dark] .colab-df-convert:hover {\n",
              "      background-color: #434B5C;\n",
              "      box-shadow: 0px 1px 3px 1px rgba(0, 0, 0, 0.15);\n",
              "      filter: drop-shadow(0px 1px 2px rgba(0, 0, 0, 0.3));\n",
              "      fill: #FFFFFF;\n",
              "    }\n",
              "  </style>\n",
              "\n",
              "      <script>\n",
              "        const buttonEl =\n",
              "          document.querySelector('#df-61f029cc-cf53-4738-89b9-30790a66f519 button.colab-df-convert');\n",
              "        buttonEl.style.display =\n",
              "          google.colab.kernel.accessAllowed ? 'block' : 'none';\n",
              "\n",
              "        async function convertToInteractive(key) {\n",
              "          const element = document.querySelector('#df-61f029cc-cf53-4738-89b9-30790a66f519');\n",
              "          const dataTable =\n",
              "            await google.colab.kernel.invokeFunction('convertToInteractive',\n",
              "                                                     [key], {});\n",
              "          if (!dataTable) return;\n",
              "\n",
              "          const docLinkHtml = 'Like what you see? Visit the ' +\n",
              "            '<a target=\"_blank\" href=https://colab.research.google.com/notebooks/data_table.ipynb>data table notebook</a>'\n",
              "            + ' to learn more about interactive tables.';\n",
              "          element.innerHTML = '';\n",
              "          dataTable['output_type'] = 'display_data';\n",
              "          await google.colab.output.renderOutput(dataTable, element);\n",
              "          const docLink = document.createElement('div');\n",
              "          docLink.innerHTML = docLinkHtml;\n",
              "          element.appendChild(docLink);\n",
              "        }\n",
              "      </script>\n",
              "    </div>\n",
              "  </div>\n",
              "  "
            ]
          },
          "metadata": {},
          "execution_count": 23
        }
      ],
      "source": [
        "data.head()"
      ]
    },
    {
      "cell_type": "code",
      "execution_count": 24,
      "metadata": {
        "colab": {
          "base_uri": "https://localhost:8080/"
        },
        "id": "O_QrTFExP0A5",
        "outputId": "3e27d005-16e5-466c-85a8-f522de1e9367"
      },
      "outputs": [
        {
          "output_type": "execute_result",
          "data": {
            "text/plain": [
              "(2503, 11)"
            ]
          },
          "metadata": {},
          "execution_count": 24
        }
      ],
      "source": [
        "data.shape"
      ]
    },
    {
      "cell_type": "code",
      "execution_count": 25,
      "metadata": {
        "colab": {
          "base_uri": "https://localhost:8080/"
        },
        "id": "2TESkuM_bWyw",
        "outputId": "cbb3c95c-600f-4eb5-d039-1638b2b751e2"
      },
      "outputs": [
        {
          "output_type": "execute_result",
          "data": {
            "text/plain": [
              "((2503, 10), (2503,))"
            ]
          },
          "metadata": {},
          "execution_count": 25
        }
      ],
      "source": [
        "X = data.drop(columns='Overall_Score')\n",
        "y = data['Overall_Score']\n",
        "\n",
        "X.shape, y.shape"
      ]
    },
    {
      "cell_type": "markdown",
      "metadata": {
        "id": "ChHkRWFGPfcL"
      },
      "source": [
        "##Scaler"
      ]
    },
    {
      "cell_type": "code",
      "execution_count": 26,
      "metadata": {
        "id": "phE1nr7HPkLE"
      },
      "outputs": [],
      "source": [
        "from sklearn.preprocessing import MinMaxScaler"
      ]
    },
    {
      "cell_type": "code",
      "execution_count": 27,
      "metadata": {
        "colab": {
          "base_uri": "https://localhost:8080/"
        },
        "id": "crBvxNLzUOLc",
        "outputId": "d4608fa7-e73f-482f-9916-9751fa7c1773"
      },
      "outputs": [
        {
          "output_type": "execute_result",
          "data": {
            "text/plain": [
              "['Classification_Size',\n",
              " 'Classification_Focus',\n",
              " 'Research_Intensity',\n",
              " 'Status',\n",
              " 'Academic_Reputation_Score',\n",
              " 'Employer_Reputation_Score',\n",
              " 'Faculty_Student_Score',\n",
              " 'Citations_Per_Faculty_Score',\n",
              " 'International_Faculty_Score',\n",
              " 'International_Student_Score']"
            ]
          },
          "metadata": {},
          "execution_count": 27
        }
      ],
      "source": [
        "cols = list(X.columns)\n",
        "cols"
      ]
    },
    {
      "cell_type": "code",
      "execution_count": 28,
      "metadata": {
        "colab": {
          "base_uri": "https://localhost:8080/",
          "height": 0
        },
        "id": "TCQ0nuYkPpkE",
        "outputId": "6245b1b3-a010-4e30-fb39-959f3c767af7"
      },
      "outputs": [
        {
          "output_type": "execute_result",
          "data": {
            "text/plain": [
              "      Classification_Size  Classification_Focus  Research_Intensity  Status  \\\n",
              "0                0.333333              0.000000                 1.0     0.5   \n",
              "1                0.000000              0.333333                 1.0     0.5   \n",
              "2                0.000000              0.333333                 1.0     0.5   \n",
              "3                0.666667              0.000000                 1.0     0.5   \n",
              "4                0.000000              0.333333                 1.0     0.0   \n",
              "...                   ...                   ...                 ...     ...   \n",
              "2498             0.000000              0.666667                 1.0     0.0   \n",
              "2499             0.000000              0.666667                 1.0     0.0   \n",
              "2500             1.000000              0.666667                 1.0     0.0   \n",
              "2501             0.333333              0.000000                 0.0     0.5   \n",
              "2502             0.000000              0.333333                 0.0     1.0   \n",
              "\n",
              "      Academic_Reputation_Score  Employer_Reputation_Score  \\\n",
              "0                      1.000000                   1.000000   \n",
              "1                      1.000000                   1.000000   \n",
              "2                      1.000000                   1.000000   \n",
              "3                      0.994944                   0.851172   \n",
              "4                      1.000000                   1.000000   \n",
              "...                         ...                        ...   \n",
              "2498                   0.341759                   0.236493   \n",
              "2499                   0.338726                   0.253823   \n",
              "2500                   0.311426                   0.201835   \n",
              "2501                   0.325581                   0.168196   \n",
              "2502                   0.160768                   0.214067   \n",
              "\n",
              "      Faculty_Student_Score  Citations_Per_Faculty_Score  \\\n",
              "0                  1.000000                     0.998990   \n",
              "1                  1.000000                     0.993939   \n",
              "2                  0.982600                     0.998990   \n",
              "3                  1.000000                     1.000000   \n",
              "4                  1.000000                     0.780808   \n",
              "...                     ...                          ...   \n",
              "2498               0.271238                     0.238384   \n",
              "2499               0.245650                     0.280808   \n",
              "2500               0.328557                     0.180808   \n",
              "2501               0.377687                     0.211111   \n",
              "2502               0.146366                     0.226263   \n",
              "\n",
              "      International_Faculty_Score  International_Student_Score  \n",
              "0                        1.000000                     0.960606  \n",
              "1                        0.995947                     0.724242  \n",
              "2                        0.964539                     0.749495  \n",
              "3                        0.933131                     0.890909  \n",
              "4                        0.973658                     0.976768  \n",
              "...                           ...                          ...  \n",
              "2498                     0.122594                     0.468687  \n",
              "2499                     0.351570                     0.016162  \n",
              "2500                     0.433637                     0.062626  \n",
              "2501                     1.000000                     0.400000  \n",
              "2502                     0.208713                     0.258586  \n",
              "\n",
              "[2503 rows x 10 columns]"
            ],
            "text/html": [
              "\n",
              "  <div id=\"df-a8fa0b71-8523-4956-8cda-021365185228\">\n",
              "    <div class=\"colab-df-container\">\n",
              "      <div>\n",
              "<style scoped>\n",
              "    .dataframe tbody tr th:only-of-type {\n",
              "        vertical-align: middle;\n",
              "    }\n",
              "\n",
              "    .dataframe tbody tr th {\n",
              "        vertical-align: top;\n",
              "    }\n",
              "\n",
              "    .dataframe thead th {\n",
              "        text-align: right;\n",
              "    }\n",
              "</style>\n",
              "<table border=\"1\" class=\"dataframe\">\n",
              "  <thead>\n",
              "    <tr style=\"text-align: right;\">\n",
              "      <th></th>\n",
              "      <th>Classification_Size</th>\n",
              "      <th>Classification_Focus</th>\n",
              "      <th>Research_Intensity</th>\n",
              "      <th>Status</th>\n",
              "      <th>Academic_Reputation_Score</th>\n",
              "      <th>Employer_Reputation_Score</th>\n",
              "      <th>Faculty_Student_Score</th>\n",
              "      <th>Citations_Per_Faculty_Score</th>\n",
              "      <th>International_Faculty_Score</th>\n",
              "      <th>International_Student_Score</th>\n",
              "    </tr>\n",
              "  </thead>\n",
              "  <tbody>\n",
              "    <tr>\n",
              "      <th>0</th>\n",
              "      <td>0.333333</td>\n",
              "      <td>0.000000</td>\n",
              "      <td>1.0</td>\n",
              "      <td>0.5</td>\n",
              "      <td>1.000000</td>\n",
              "      <td>1.000000</td>\n",
              "      <td>1.000000</td>\n",
              "      <td>0.998990</td>\n",
              "      <td>1.000000</td>\n",
              "      <td>0.960606</td>\n",
              "    </tr>\n",
              "    <tr>\n",
              "      <th>1</th>\n",
              "      <td>0.000000</td>\n",
              "      <td>0.333333</td>\n",
              "      <td>1.0</td>\n",
              "      <td>0.5</td>\n",
              "      <td>1.000000</td>\n",
              "      <td>1.000000</td>\n",
              "      <td>1.000000</td>\n",
              "      <td>0.993939</td>\n",
              "      <td>0.995947</td>\n",
              "      <td>0.724242</td>\n",
              "    </tr>\n",
              "    <tr>\n",
              "      <th>2</th>\n",
              "      <td>0.000000</td>\n",
              "      <td>0.333333</td>\n",
              "      <td>1.0</td>\n",
              "      <td>0.5</td>\n",
              "      <td>1.000000</td>\n",
              "      <td>1.000000</td>\n",
              "      <td>0.982600</td>\n",
              "      <td>0.998990</td>\n",
              "      <td>0.964539</td>\n",
              "      <td>0.749495</td>\n",
              "    </tr>\n",
              "    <tr>\n",
              "      <th>3</th>\n",
              "      <td>0.666667</td>\n",
              "      <td>0.000000</td>\n",
              "      <td>1.0</td>\n",
              "      <td>0.5</td>\n",
              "      <td>0.994944</td>\n",
              "      <td>0.851172</td>\n",
              "      <td>1.000000</td>\n",
              "      <td>1.000000</td>\n",
              "      <td>0.933131</td>\n",
              "      <td>0.890909</td>\n",
              "    </tr>\n",
              "    <tr>\n",
              "      <th>4</th>\n",
              "      <td>0.000000</td>\n",
              "      <td>0.333333</td>\n",
              "      <td>1.0</td>\n",
              "      <td>0.0</td>\n",
              "      <td>1.000000</td>\n",
              "      <td>1.000000</td>\n",
              "      <td>1.000000</td>\n",
              "      <td>0.780808</td>\n",
              "      <td>0.973658</td>\n",
              "      <td>0.976768</td>\n",
              "    </tr>\n",
              "    <tr>\n",
              "      <th>...</th>\n",
              "      <td>...</td>\n",
              "      <td>...</td>\n",
              "      <td>...</td>\n",
              "      <td>...</td>\n",
              "      <td>...</td>\n",
              "      <td>...</td>\n",
              "      <td>...</td>\n",
              "      <td>...</td>\n",
              "      <td>...</td>\n",
              "      <td>...</td>\n",
              "    </tr>\n",
              "    <tr>\n",
              "      <th>2498</th>\n",
              "      <td>0.000000</td>\n",
              "      <td>0.666667</td>\n",
              "      <td>1.0</td>\n",
              "      <td>0.0</td>\n",
              "      <td>0.341759</td>\n",
              "      <td>0.236493</td>\n",
              "      <td>0.271238</td>\n",
              "      <td>0.238384</td>\n",
              "      <td>0.122594</td>\n",
              "      <td>0.468687</td>\n",
              "    </tr>\n",
              "    <tr>\n",
              "      <th>2499</th>\n",
              "      <td>0.000000</td>\n",
              "      <td>0.666667</td>\n",
              "      <td>1.0</td>\n",
              "      <td>0.0</td>\n",
              "      <td>0.338726</td>\n",
              "      <td>0.253823</td>\n",
              "      <td>0.245650</td>\n",
              "      <td>0.280808</td>\n",
              "      <td>0.351570</td>\n",
              "      <td>0.016162</td>\n",
              "    </tr>\n",
              "    <tr>\n",
              "      <th>2500</th>\n",
              "      <td>1.000000</td>\n",
              "      <td>0.666667</td>\n",
              "      <td>1.0</td>\n",
              "      <td>0.0</td>\n",
              "      <td>0.311426</td>\n",
              "      <td>0.201835</td>\n",
              "      <td>0.328557</td>\n",
              "      <td>0.180808</td>\n",
              "      <td>0.433637</td>\n",
              "      <td>0.062626</td>\n",
              "    </tr>\n",
              "    <tr>\n",
              "      <th>2501</th>\n",
              "      <td>0.333333</td>\n",
              "      <td>0.000000</td>\n",
              "      <td>0.0</td>\n",
              "      <td>0.5</td>\n",
              "      <td>0.325581</td>\n",
              "      <td>0.168196</td>\n",
              "      <td>0.377687</td>\n",
              "      <td>0.211111</td>\n",
              "      <td>1.000000</td>\n",
              "      <td>0.400000</td>\n",
              "    </tr>\n",
              "    <tr>\n",
              "      <th>2502</th>\n",
              "      <td>0.000000</td>\n",
              "      <td>0.333333</td>\n",
              "      <td>0.0</td>\n",
              "      <td>1.0</td>\n",
              "      <td>0.160768</td>\n",
              "      <td>0.214067</td>\n",
              "      <td>0.146366</td>\n",
              "      <td>0.226263</td>\n",
              "      <td>0.208713</td>\n",
              "      <td>0.258586</td>\n",
              "    </tr>\n",
              "  </tbody>\n",
              "</table>\n",
              "<p>2503 rows × 10 columns</p>\n",
              "</div>\n",
              "      <button class=\"colab-df-convert\" onclick=\"convertToInteractive('df-a8fa0b71-8523-4956-8cda-021365185228')\"\n",
              "              title=\"Convert this dataframe to an interactive table.\"\n",
              "              style=\"display:none;\">\n",
              "        \n",
              "  <svg xmlns=\"http://www.w3.org/2000/svg\" height=\"24px\"viewBox=\"0 0 24 24\"\n",
              "       width=\"24px\">\n",
              "    <path d=\"M0 0h24v24H0V0z\" fill=\"none\"/>\n",
              "    <path d=\"M18.56 5.44l.94 2.06.94-2.06 2.06-.94-2.06-.94-.94-2.06-.94 2.06-2.06.94zm-11 1L8.5 8.5l.94-2.06 2.06-.94-2.06-.94L8.5 2.5l-.94 2.06-2.06.94zm10 10l.94 2.06.94-2.06 2.06-.94-2.06-.94-.94-2.06-.94 2.06-2.06.94z\"/><path d=\"M17.41 7.96l-1.37-1.37c-.4-.4-.92-.59-1.43-.59-.52 0-1.04.2-1.43.59L10.3 9.45l-7.72 7.72c-.78.78-.78 2.05 0 2.83L4 21.41c.39.39.9.59 1.41.59.51 0 1.02-.2 1.41-.59l7.78-7.78 2.81-2.81c.8-.78.8-2.07 0-2.86zM5.41 20L4 18.59l7.72-7.72 1.47 1.35L5.41 20z\"/>\n",
              "  </svg>\n",
              "      </button>\n",
              "      \n",
              "  <style>\n",
              "    .colab-df-container {\n",
              "      display:flex;\n",
              "      flex-wrap:wrap;\n",
              "      gap: 12px;\n",
              "    }\n",
              "\n",
              "    .colab-df-convert {\n",
              "      background-color: #E8F0FE;\n",
              "      border: none;\n",
              "      border-radius: 50%;\n",
              "      cursor: pointer;\n",
              "      display: none;\n",
              "      fill: #1967D2;\n",
              "      height: 32px;\n",
              "      padding: 0 0 0 0;\n",
              "      width: 32px;\n",
              "    }\n",
              "\n",
              "    .colab-df-convert:hover {\n",
              "      background-color: #E2EBFA;\n",
              "      box-shadow: 0px 1px 2px rgba(60, 64, 67, 0.3), 0px 1px 3px 1px rgba(60, 64, 67, 0.15);\n",
              "      fill: #174EA6;\n",
              "    }\n",
              "\n",
              "    [theme=dark] .colab-df-convert {\n",
              "      background-color: #3B4455;\n",
              "      fill: #D2E3FC;\n",
              "    }\n",
              "\n",
              "    [theme=dark] .colab-df-convert:hover {\n",
              "      background-color: #434B5C;\n",
              "      box-shadow: 0px 1px 3px 1px rgba(0, 0, 0, 0.15);\n",
              "      filter: drop-shadow(0px 1px 2px rgba(0, 0, 0, 0.3));\n",
              "      fill: #FFFFFF;\n",
              "    }\n",
              "  </style>\n",
              "\n",
              "      <script>\n",
              "        const buttonEl =\n",
              "          document.querySelector('#df-a8fa0b71-8523-4956-8cda-021365185228 button.colab-df-convert');\n",
              "        buttonEl.style.display =\n",
              "          google.colab.kernel.accessAllowed ? 'block' : 'none';\n",
              "\n",
              "        async function convertToInteractive(key) {\n",
              "          const element = document.querySelector('#df-a8fa0b71-8523-4956-8cda-021365185228');\n",
              "          const dataTable =\n",
              "            await google.colab.kernel.invokeFunction('convertToInteractive',\n",
              "                                                     [key], {});\n",
              "          if (!dataTable) return;\n",
              "\n",
              "          const docLinkHtml = 'Like what you see? Visit the ' +\n",
              "            '<a target=\"_blank\" href=https://colab.research.google.com/notebooks/data_table.ipynb>data table notebook</a>'\n",
              "            + ' to learn more about interactive tables.';\n",
              "          element.innerHTML = '';\n",
              "          dataTable['output_type'] = 'display_data';\n",
              "          await google.colab.output.renderOutput(dataTable, element);\n",
              "          const docLink = document.createElement('div');\n",
              "          docLink.innerHTML = docLinkHtml;\n",
              "          element.appendChild(docLink);\n",
              "        }\n",
              "      </script>\n",
              "    </div>\n",
              "  </div>\n",
              "  "
            ]
          },
          "metadata": {},
          "execution_count": 28
        }
      ],
      "source": [
        "scaler = MinMaxScaler()\n",
        "X_scaled = scaler.fit_transform(X)\n",
        "X_df = pd.DataFrame(X_scaled, columns=cols)\n",
        "X_df"
      ]
    },
    {
      "cell_type": "code",
      "execution_count": 29,
      "metadata": {
        "colab": {
          "base_uri": "https://localhost:8080/",
          "height": 0
        },
        "id": "K_M_Z-FgTOMY",
        "outputId": "8694691d-eb78-417d-b6f0-2a0e3538c6be"
      },
      "outputs": [
        {
          "output_type": "execute_result",
          "data": {
            "text/plain": [
              "      Classification_Size  Classification_Focus  Research_Intensity  Status  \\\n",
              "0                       1                     0                   3       1   \n",
              "1                       0                     1                   3       1   \n",
              "2                       0                     1                   3       1   \n",
              "3                       2                     0                   3       1   \n",
              "4                       0                     1                   3       0   \n",
              "...                   ...                   ...                 ...     ...   \n",
              "2498                    0                     2                   3       0   \n",
              "2499                    0                     2                   3       0   \n",
              "2500                    3                     2                   3       0   \n",
              "2501                    1                     0                   0       1   \n",
              "2502                    0                     1                   0       2   \n",
              "\n",
              "      Academic_Reputation_Score  Employer_Reputation_Score  \\\n",
              "0                         100.0                      100.0   \n",
              "1                         100.0                      100.0   \n",
              "2                         100.0                      100.0   \n",
              "3                          99.5                       85.4   \n",
              "4                         100.0                      100.0   \n",
              "...                         ...                        ...   \n",
              "2498                       34.9                       25.1   \n",
              "2499                       34.6                       26.8   \n",
              "2500                       31.9                       21.7   \n",
              "2501                       33.3                       18.4   \n",
              "2502                       17.0                       22.9   \n",
              "\n",
              "      Faculty_Student_Score  Citations_Per_Faculty_Score  \\\n",
              "0                     100.0                         99.9   \n",
              "1                     100.0                         99.4   \n",
              "2                      98.3                         99.9   \n",
              "3                     100.0                        100.0   \n",
              "4                     100.0                         78.3   \n",
              "...                     ...                          ...   \n",
              "2498                   28.8                         24.6   \n",
              "2499                   26.3                         28.8   \n",
              "2500                   34.4                         18.9   \n",
              "2501                   39.2                         21.9   \n",
              "2502                   16.6                         23.4   \n",
              "\n",
              "      International_Faculty_Score  International_Student_Score  \n",
              "0                           100.0                         96.1  \n",
              "1                            99.6                         72.7  \n",
              "2                            96.5                         75.2  \n",
              "3                            93.4                         89.2  \n",
              "4                            97.4                         97.7  \n",
              "...                           ...                          ...  \n",
              "2498                         13.4                         47.4  \n",
              "2499                         36.0                          2.6  \n",
              "2500                         44.1                          7.2  \n",
              "2501                        100.0                         40.6  \n",
              "2502                         21.9                         26.6  \n",
              "\n",
              "[2503 rows x 10 columns]"
            ],
            "text/html": [
              "\n",
              "  <div id=\"df-fa5e8a8e-2ffc-41da-a455-cd1c4894a356\">\n",
              "    <div class=\"colab-df-container\">\n",
              "      <div>\n",
              "<style scoped>\n",
              "    .dataframe tbody tr th:only-of-type {\n",
              "        vertical-align: middle;\n",
              "    }\n",
              "\n",
              "    .dataframe tbody tr th {\n",
              "        vertical-align: top;\n",
              "    }\n",
              "\n",
              "    .dataframe thead th {\n",
              "        text-align: right;\n",
              "    }\n",
              "</style>\n",
              "<table border=\"1\" class=\"dataframe\">\n",
              "  <thead>\n",
              "    <tr style=\"text-align: right;\">\n",
              "      <th></th>\n",
              "      <th>Classification_Size</th>\n",
              "      <th>Classification_Focus</th>\n",
              "      <th>Research_Intensity</th>\n",
              "      <th>Status</th>\n",
              "      <th>Academic_Reputation_Score</th>\n",
              "      <th>Employer_Reputation_Score</th>\n",
              "      <th>Faculty_Student_Score</th>\n",
              "      <th>Citations_Per_Faculty_Score</th>\n",
              "      <th>International_Faculty_Score</th>\n",
              "      <th>International_Student_Score</th>\n",
              "    </tr>\n",
              "  </thead>\n",
              "  <tbody>\n",
              "    <tr>\n",
              "      <th>0</th>\n",
              "      <td>1</td>\n",
              "      <td>0</td>\n",
              "      <td>3</td>\n",
              "      <td>1</td>\n",
              "      <td>100.0</td>\n",
              "      <td>100.0</td>\n",
              "      <td>100.0</td>\n",
              "      <td>99.9</td>\n",
              "      <td>100.0</td>\n",
              "      <td>96.1</td>\n",
              "    </tr>\n",
              "    <tr>\n",
              "      <th>1</th>\n",
              "      <td>0</td>\n",
              "      <td>1</td>\n",
              "      <td>3</td>\n",
              "      <td>1</td>\n",
              "      <td>100.0</td>\n",
              "      <td>100.0</td>\n",
              "      <td>100.0</td>\n",
              "      <td>99.4</td>\n",
              "      <td>99.6</td>\n",
              "      <td>72.7</td>\n",
              "    </tr>\n",
              "    <tr>\n",
              "      <th>2</th>\n",
              "      <td>0</td>\n",
              "      <td>1</td>\n",
              "      <td>3</td>\n",
              "      <td>1</td>\n",
              "      <td>100.0</td>\n",
              "      <td>100.0</td>\n",
              "      <td>98.3</td>\n",
              "      <td>99.9</td>\n",
              "      <td>96.5</td>\n",
              "      <td>75.2</td>\n",
              "    </tr>\n",
              "    <tr>\n",
              "      <th>3</th>\n",
              "      <td>2</td>\n",
              "      <td>0</td>\n",
              "      <td>3</td>\n",
              "      <td>1</td>\n",
              "      <td>99.5</td>\n",
              "      <td>85.4</td>\n",
              "      <td>100.0</td>\n",
              "      <td>100.0</td>\n",
              "      <td>93.4</td>\n",
              "      <td>89.2</td>\n",
              "    </tr>\n",
              "    <tr>\n",
              "      <th>4</th>\n",
              "      <td>0</td>\n",
              "      <td>1</td>\n",
              "      <td>3</td>\n",
              "      <td>0</td>\n",
              "      <td>100.0</td>\n",
              "      <td>100.0</td>\n",
              "      <td>100.0</td>\n",
              "      <td>78.3</td>\n",
              "      <td>97.4</td>\n",
              "      <td>97.7</td>\n",
              "    </tr>\n",
              "    <tr>\n",
              "      <th>...</th>\n",
              "      <td>...</td>\n",
              "      <td>...</td>\n",
              "      <td>...</td>\n",
              "      <td>...</td>\n",
              "      <td>...</td>\n",
              "      <td>...</td>\n",
              "      <td>...</td>\n",
              "      <td>...</td>\n",
              "      <td>...</td>\n",
              "      <td>...</td>\n",
              "    </tr>\n",
              "    <tr>\n",
              "      <th>2498</th>\n",
              "      <td>0</td>\n",
              "      <td>2</td>\n",
              "      <td>3</td>\n",
              "      <td>0</td>\n",
              "      <td>34.9</td>\n",
              "      <td>25.1</td>\n",
              "      <td>28.8</td>\n",
              "      <td>24.6</td>\n",
              "      <td>13.4</td>\n",
              "      <td>47.4</td>\n",
              "    </tr>\n",
              "    <tr>\n",
              "      <th>2499</th>\n",
              "      <td>0</td>\n",
              "      <td>2</td>\n",
              "      <td>3</td>\n",
              "      <td>0</td>\n",
              "      <td>34.6</td>\n",
              "      <td>26.8</td>\n",
              "      <td>26.3</td>\n",
              "      <td>28.8</td>\n",
              "      <td>36.0</td>\n",
              "      <td>2.6</td>\n",
              "    </tr>\n",
              "    <tr>\n",
              "      <th>2500</th>\n",
              "      <td>3</td>\n",
              "      <td>2</td>\n",
              "      <td>3</td>\n",
              "      <td>0</td>\n",
              "      <td>31.9</td>\n",
              "      <td>21.7</td>\n",
              "      <td>34.4</td>\n",
              "      <td>18.9</td>\n",
              "      <td>44.1</td>\n",
              "      <td>7.2</td>\n",
              "    </tr>\n",
              "    <tr>\n",
              "      <th>2501</th>\n",
              "      <td>1</td>\n",
              "      <td>0</td>\n",
              "      <td>0</td>\n",
              "      <td>1</td>\n",
              "      <td>33.3</td>\n",
              "      <td>18.4</td>\n",
              "      <td>39.2</td>\n",
              "      <td>21.9</td>\n",
              "      <td>100.0</td>\n",
              "      <td>40.6</td>\n",
              "    </tr>\n",
              "    <tr>\n",
              "      <th>2502</th>\n",
              "      <td>0</td>\n",
              "      <td>1</td>\n",
              "      <td>0</td>\n",
              "      <td>2</td>\n",
              "      <td>17.0</td>\n",
              "      <td>22.9</td>\n",
              "      <td>16.6</td>\n",
              "      <td>23.4</td>\n",
              "      <td>21.9</td>\n",
              "      <td>26.6</td>\n",
              "    </tr>\n",
              "  </tbody>\n",
              "</table>\n",
              "<p>2503 rows × 10 columns</p>\n",
              "</div>\n",
              "      <button class=\"colab-df-convert\" onclick=\"convertToInteractive('df-fa5e8a8e-2ffc-41da-a455-cd1c4894a356')\"\n",
              "              title=\"Convert this dataframe to an interactive table.\"\n",
              "              style=\"display:none;\">\n",
              "        \n",
              "  <svg xmlns=\"http://www.w3.org/2000/svg\" height=\"24px\"viewBox=\"0 0 24 24\"\n",
              "       width=\"24px\">\n",
              "    <path d=\"M0 0h24v24H0V0z\" fill=\"none\"/>\n",
              "    <path d=\"M18.56 5.44l.94 2.06.94-2.06 2.06-.94-2.06-.94-.94-2.06-.94 2.06-2.06.94zm-11 1L8.5 8.5l.94-2.06 2.06-.94-2.06-.94L8.5 2.5l-.94 2.06-2.06.94zm10 10l.94 2.06.94-2.06 2.06-.94-2.06-.94-.94-2.06-.94 2.06-2.06.94z\"/><path d=\"M17.41 7.96l-1.37-1.37c-.4-.4-.92-.59-1.43-.59-.52 0-1.04.2-1.43.59L10.3 9.45l-7.72 7.72c-.78.78-.78 2.05 0 2.83L4 21.41c.39.39.9.59 1.41.59.51 0 1.02-.2 1.41-.59l7.78-7.78 2.81-2.81c.8-.78.8-2.07 0-2.86zM5.41 20L4 18.59l7.72-7.72 1.47 1.35L5.41 20z\"/>\n",
              "  </svg>\n",
              "      </button>\n",
              "      \n",
              "  <style>\n",
              "    .colab-df-container {\n",
              "      display:flex;\n",
              "      flex-wrap:wrap;\n",
              "      gap: 12px;\n",
              "    }\n",
              "\n",
              "    .colab-df-convert {\n",
              "      background-color: #E8F0FE;\n",
              "      border: none;\n",
              "      border-radius: 50%;\n",
              "      cursor: pointer;\n",
              "      display: none;\n",
              "      fill: #1967D2;\n",
              "      height: 32px;\n",
              "      padding: 0 0 0 0;\n",
              "      width: 32px;\n",
              "    }\n",
              "\n",
              "    .colab-df-convert:hover {\n",
              "      background-color: #E2EBFA;\n",
              "      box-shadow: 0px 1px 2px rgba(60, 64, 67, 0.3), 0px 1px 3px 1px rgba(60, 64, 67, 0.15);\n",
              "      fill: #174EA6;\n",
              "    }\n",
              "\n",
              "    [theme=dark] .colab-df-convert {\n",
              "      background-color: #3B4455;\n",
              "      fill: #D2E3FC;\n",
              "    }\n",
              "\n",
              "    [theme=dark] .colab-df-convert:hover {\n",
              "      background-color: #434B5C;\n",
              "      box-shadow: 0px 1px 3px 1px rgba(0, 0, 0, 0.15);\n",
              "      filter: drop-shadow(0px 1px 2px rgba(0, 0, 0, 0.3));\n",
              "      fill: #FFFFFF;\n",
              "    }\n",
              "  </style>\n",
              "\n",
              "      <script>\n",
              "        const buttonEl =\n",
              "          document.querySelector('#df-fa5e8a8e-2ffc-41da-a455-cd1c4894a356 button.colab-df-convert');\n",
              "        buttonEl.style.display =\n",
              "          google.colab.kernel.accessAllowed ? 'block' : 'none';\n",
              "\n",
              "        async function convertToInteractive(key) {\n",
              "          const element = document.querySelector('#df-fa5e8a8e-2ffc-41da-a455-cd1c4894a356');\n",
              "          const dataTable =\n",
              "            await google.colab.kernel.invokeFunction('convertToInteractive',\n",
              "                                                     [key], {});\n",
              "          if (!dataTable) return;\n",
              "\n",
              "          const docLinkHtml = 'Like what you see? Visit the ' +\n",
              "            '<a target=\"_blank\" href=https://colab.research.google.com/notebooks/data_table.ipynb>data table notebook</a>'\n",
              "            + ' to learn more about interactive tables.';\n",
              "          element.innerHTML = '';\n",
              "          dataTable['output_type'] = 'display_data';\n",
              "          await google.colab.output.renderOutput(dataTable, element);\n",
              "          const docLink = document.createElement('div');\n",
              "          docLink.innerHTML = docLinkHtml;\n",
              "          element.appendChild(docLink);\n",
              "        }\n",
              "      </script>\n",
              "    </div>\n",
              "  </div>\n",
              "  "
            ]
          },
          "metadata": {},
          "execution_count": 29
        }
      ],
      "source": [
        "X"
      ]
    },
    {
      "cell_type": "markdown",
      "metadata": {
        "id": "tVs0XutCf7yw"
      },
      "source": [
        "##Model Tracking"
      ]
    },
    {
      "cell_type": "code",
      "execution_count": 30,
      "metadata": {
        "colab": {
          "base_uri": "https://localhost:8080/"
        },
        "id": "oXp3sok6f-uU",
        "outputId": "399618ca-7230-4a7a-d1ec-89f3c67650b9"
      },
      "outputs": [
        {
          "output_type": "stream",
          "name": "stdout",
          "text": [
            "\u001b[K     |████████████████████████████████| 17.0 MB 5.3 MB/s \n",
            "\u001b[K     |████████████████████████████████| 81 kB 8.1 MB/s \n",
            "\u001b[K     |████████████████████████████████| 209 kB 61.7 MB/s \n",
            "\u001b[K     |████████████████████████████████| 79 kB 7.2 MB/s \n",
            "\u001b[K     |████████████████████████████████| 146 kB 41.0 MB/s \n",
            "\u001b[K     |████████████████████████████████| 596 kB 63.4 MB/s \n",
            "\u001b[K     |████████████████████████████████| 181 kB 63.1 MB/s \n",
            "\u001b[K     |████████████████████████████████| 78 kB 6.6 MB/s \n",
            "\u001b[K     |████████████████████████████████| 54 kB 2.6 MB/s \n",
            "\u001b[K     |████████████████████████████████| 63 kB 1.8 MB/s \n",
            "\u001b[K     |████████████████████████████████| 59 kB 6.3 MB/s \n",
            "\u001b[?25h  Building wheel for databricks-cli (setup.py) ... \u001b[?25l\u001b[?25hdone\n",
            "\u001b[K     |████████████████████████████████| 745 kB 5.2 MB/s \n",
            "\u001b[?25h  Building wheel for pyngrok (setup.py) ... \u001b[?25l\u001b[?25hdone\n"
          ]
        }
      ],
      "source": [
        "!pip install mlflow --quiet\n",
        "!pip install pyngrok --quiet\n",
        "\n",
        "import mlflow\n",
        "\n",
        "with mlflow.start_run(run_name=\"MLflow on Colab\"):\n",
        "  mlflow.log_metric(\"m1\", 2.0)\n",
        "  mlflow.log_param(\"p1\", \"mlflow-colab\")"
      ]
    },
    {
      "cell_type": "code",
      "execution_count": 31,
      "metadata": {
        "id": "6NdFTltzgBgf"
      },
      "outputs": [],
      "source": [
        "get_ipython().system_raw(\"mlflow ui --port 5000 &\") # run tracking UI in the background\n"
      ]
    },
    {
      "cell_type": "code",
      "execution_count": 32,
      "metadata": {
        "colab": {
          "base_uri": "https://localhost:8080/"
        },
        "id": "2RzKNbepgMu9",
        "outputId": "566834a5-2449-40cc-a7c1-b59b172e9723"
      },
      "outputs": [
        {
          "output_type": "stream",
          "name": "stdout",
          "text": [
            ""
          ]
        }
      ],
      "source": [
        "# create remote tunnel using ngrok.com to allow local port access\n",
        "# borrowed from https://colab.research.google.com/github/alfozan/MLflow-GBRT-demo/blob/master/MLflow-GBRT-demo.ipynb#scrollTo=4h3bKHMYUIG6\n",
        "\n",
        "from pyngrok import ngrok\n",
        "\n",
        "# Terminate open tunnels if exist\n",
        "ngrok.kill()\n",
        "\n",
        "# Setting the authtoken (optional)\n",
        "# Get your authtoken from https://dashboard.ngrok.com/auth\n",
        "NGROK_AUTH_TOKEN = \"2DYHu1OBXcqPo44la9O1wyAJbMd_4zSm7Dc5jNh6xEGSWmjVE\"\n",
        "ngrok.set_auth_token(NGROK_AUTH_TOKEN)"
      ]
    },
    {
      "cell_type": "code",
      "execution_count": 33,
      "metadata": {
        "colab": {
          "base_uri": "https://localhost:8080/"
        },
        "id": "YeTsdZUdgWBf",
        "outputId": "d4e35a5a-c9df-49e9-c282-4f34058d00c0"
      },
      "outputs": [
        {
          "output_type": "stream",
          "name": "stdout",
          "text": [
            "MLflow Tracking UI: https://7f27-35-237-102-225.ngrok.io\n"
          ]
        }
      ],
      "source": [
        "ngrok_tunnel = ngrok.connect(addr=\"5000\", proto=\"http\", bind_tls=True)\n",
        "print(\"MLflow Tracking UI:\", ngrok_tunnel.public_url)"
      ]
    },
    {
      "cell_type": "code",
      "execution_count": 34,
      "metadata": {
        "colab": {
          "base_uri": "https://localhost:8080/"
        },
        "id": "bcKaVcJ9j8D0",
        "outputId": "78aa76cd-1dff-4220-de53-156586d816c1"
      },
      "outputs": [
        {
          "output_type": "stream",
          "name": "stderr",
          "text": [
            "2022/08/19 16:12:16 INFO mlflow.tracking.fluent: Experiment with name 'uni_score' does not exist. Creating a new experiment.\n"
          ]
        },
        {
          "output_type": "execute_result",
          "data": {
            "text/plain": [
              "<Experiment: artifact_location='file:///content/mlruns/1', experiment_id='1', lifecycle_stage='active', name='uni_score', tags={}>"
            ]
          },
          "metadata": {},
          "execution_count": 34
        }
      ],
      "source": [
        "mlflow.set_experiment(\"uni_score\")"
      ]
    },
    {
      "cell_type": "code",
      "execution_count": 34,
      "metadata": {
        "id": "YK_vOu0rhIQX"
      },
      "outputs": [],
      "source": [
        ""
      ]
    },
    {
      "cell_type": "markdown",
      "metadata": {
        "id": "zdHpelC-WFBZ"
      },
      "source": [
        "##Model Evaluation"
      ]
    },
    {
      "cell_type": "code",
      "execution_count": 35,
      "metadata": {
        "id": "2X2ekBtxRP7H"
      },
      "outputs": [],
      "source": [
        "from sklearn.model_selection import train_test_split\n",
        "from sklearn.linear_model import LinearRegression, Lasso, Ridge, ElasticNet\n",
        "from sklearn.svm import LinearSVR\n",
        "from sklearn.tree import DecisionTreeRegressor\n",
        "from sklearn.ensemble import RandomForestRegressor, GradientBoostingRegressor\n",
        "from sklearn.model_selection import cross_val_score, KFold\n",
        "\n",
        "from sklearn.metrics import mean_squared_error, mean_absolute_error"
      ]
    },
    {
      "cell_type": "code",
      "execution_count": 36,
      "metadata": {
        "id": "2WvTrwMMWvP-"
      },
      "outputs": [],
      "source": [
        "train_X, test_X, train_y, test_y = train_test_split(X, y, test_size=0.2, random_state=7)"
      ]
    },
    {
      "cell_type": "code",
      "execution_count": 37,
      "metadata": {
        "colab": {
          "base_uri": "https://localhost:8080/"
        },
        "id": "Tg6jriA5buBz",
        "outputId": "20c61cfa-9c89-4b18-8e6e-2ff0b5828795"
      },
      "outputs": [
        {
          "output_type": "execute_result",
          "data": {
            "text/plain": [
              "((2002, 10), (2002,), (501, 10), (501,))"
            ]
          },
          "metadata": {},
          "execution_count": 37
        }
      ],
      "source": [
        "train_X.shape, train_y.shape, test_X.shape, test_y.shape"
      ]
    },
    {
      "cell_type": "code",
      "execution_count": 38,
      "metadata": {
        "colab": {
          "base_uri": "https://localhost:8080/"
        },
        "id": "Rie2AB3Nb936",
        "outputId": "2f49f27c-90ce-4164-97c6-a78cce4d03a0"
      },
      "outputs": [
        {
          "output_type": "stream",
          "name": "stdout",
          "text": [
            "mse: 80.99066949667677\n",
            "rmse: 8.999481623775715\n",
            "mae: 7.235813356855066\n"
          ]
        }
      ],
      "source": [
        "lin_reg = LinearRegression()\n",
        "lin_reg.fit(train_X, train_y)\n",
        "lin_reg_pred = lin_reg.predict(test_X)\n",
        "\n",
        "print(f'mse: {mean_squared_error(lin_reg_pred, test_y)}')\n",
        "print(f'rmse: {mean_squared_error(lin_reg_pred, test_y, squared=False)}')\n",
        "print(f'mae: {mean_absolute_error(lin_reg_pred, test_y)}')"
      ]
    },
    {
      "cell_type": "code",
      "execution_count": 39,
      "metadata": {
        "colab": {
          "base_uri": "https://localhost:8080/",
          "height": 52
        },
        "id": "gY_hPbfJdlQH",
        "outputId": "98a9fa77-3c11-40f5-9a63-67fd8bab5e67"
      },
      "outputs": [
        {
          "output_type": "execute_result",
          "data": {
            "text/plain": [
              "\"lin_svr = LinearSVR(tol=0.001, C=0.1)\\nlin_svr.fit(train_X, train_y)\\nlin_svr_pred = lin_svr.predict(test_X)\\n\\nprint(f'mse: {mean_squared_error(lin_svr_pred, test_y)}')\\nprint(f'rmse: {mean_squared_error(lin_svr_pred, test_y, squared=False)}')\\nprint(f'mae: {mean_absolute_error(lin_svr_pred, test_y)}')\""
            ],
            "application/vnd.google.colaboratory.intrinsic+json": {
              "type": "string"
            }
          },
          "metadata": {},
          "execution_count": 39
        }
      ],
      "source": [
        "\"\"\"lin_svr = LinearSVR(tol=0.001, C=0.1)\n",
        "lin_svr.fit(train_X, train_y)\n",
        "lin_svr_pred = lin_svr.predict(test_X)\n",
        "\n",
        "print(f'mse: {mean_squared_error(lin_svr_pred, test_y)}')\n",
        "print(f'rmse: {mean_squared_error(lin_svr_pred, test_y, squared=False)}')\n",
        "print(f'mae: {mean_absolute_error(lin_svr_pred, test_y)}')\"\"\""
      ]
    },
    {
      "cell_type": "code",
      "execution_count": 40,
      "metadata": {
        "colab": {
          "base_uri": "https://localhost:8080/"
        },
        "id": "Y3ftJbgPfUHT",
        "outputId": "008bdb2e-1dfe-4e31-ae9f-0d017e9f5772"
      },
      "outputs": [
        {
          "output_type": "stream",
          "name": "stdout",
          "text": [
            "mse: 26.071189444471038\n",
            "rmse: 5.105995441093836\n",
            "mae: 3.4596918163672545\n"
          ]
        }
      ],
      "source": [
        "rf = RandomForestRegressor(n_estimators=1000, random_state=7, warm_start=False)\n",
        "rf.fit(train_X, train_y)\n",
        "rf_pred = rf.predict(test_X)\n",
        "\n",
        "print(f'mse: {mean_squared_error(rf_pred, test_y)}')\n",
        "print(f'rmse: {mean_squared_error(rf_pred, test_y, squared=False)}')\n",
        "print(f'mae: {mean_absolute_error(rf_pred, test_y)}')"
      ]
    },
    {
      "cell_type": "code",
      "execution_count": 41,
      "metadata": {
        "colab": {
          "base_uri": "https://localhost:8080/"
        },
        "id": "hZGs4I5giDMu",
        "outputId": "31549506-92f9-482a-c883-f75f916552b9"
      },
      "outputs": [
        {
          "output_type": "stream",
          "name": "stdout",
          "text": [
            "mse: 33.235171206337796\n",
            "rmse: 5.764995334459326\n",
            "mae: 4.2636526683688025\n"
          ]
        }
      ],
      "source": [
        "gbr = GradientBoostingRegressor(n_estimators=2000, learning_rate=0.006, random_state=7, tol=0.001)\n",
        "gbr.fit(train_X, train_y)\n",
        "gbr_pred = gbr.predict(test_X)\n",
        "\n",
        "print(f'mse: {mean_squared_error(gbr_pred, test_y)}')\n",
        "print(f'rmse: {mean_squared_error(gbr_pred, test_y, squared=False)}')\n",
        "print(f'mae: {mean_absolute_error(gbr_pred, test_y)}')"
      ]
    },
    {
      "cell_type": "code",
      "execution_count": 42,
      "metadata": {
        "colab": {
          "base_uri": "https://localhost:8080/"
        },
        "id": "Zesfn3y8ixLF",
        "outputId": "328eea26-77ac-4bb1-a848-9e9c6f4775dc"
      },
      "outputs": [
        {
          "output_type": "stream",
          "name": "stdout",
          "text": [
            "Looking in indexes: https://pypi.org/simple, https://us-python.pkg.dev/colab-wheels/public/simple/\n",
            "Collecting catboost\n",
            "  Downloading catboost-1.0.6-cp37-none-manylinux1_x86_64.whl (76.6 MB)\n",
            "\u001b[K     |████████████████████████████████| 76.6 MB 1.1 MB/s \n",
            "\u001b[?25hRequirement already satisfied: pandas>=0.24.0 in /usr/local/lib/python3.7/dist-packages (from catboost) (1.3.5)\n",
            "Requirement already satisfied: matplotlib in /usr/local/lib/python3.7/dist-packages (from catboost) (3.2.2)\n",
            "Requirement already satisfied: plotly in /usr/local/lib/python3.7/dist-packages (from catboost) (5.5.0)\n",
            "Requirement already satisfied: graphviz in /usr/local/lib/python3.7/dist-packages (from catboost) (0.10.1)\n",
            "Requirement already satisfied: scipy in /usr/local/lib/python3.7/dist-packages (from catboost) (1.7.3)\n",
            "Requirement already satisfied: six in /usr/local/lib/python3.7/dist-packages (from catboost) (1.15.0)\n",
            "Requirement already satisfied: numpy>=1.16.0 in /usr/local/lib/python3.7/dist-packages (from catboost) (1.21.6)\n",
            "Requirement already satisfied: python-dateutil>=2.7.3 in /usr/local/lib/python3.7/dist-packages (from pandas>=0.24.0->catboost) (2.8.2)\n",
            "Requirement already satisfied: pytz>=2017.3 in /usr/local/lib/python3.7/dist-packages (from pandas>=0.24.0->catboost) (2022.1)\n",
            "Requirement already satisfied: pyparsing!=2.0.4,!=2.1.2,!=2.1.6,>=2.0.1 in /usr/local/lib/python3.7/dist-packages (from matplotlib->catboost) (3.0.9)\n",
            "Requirement already satisfied: cycler>=0.10 in /usr/local/lib/python3.7/dist-packages (from matplotlib->catboost) (0.11.0)\n",
            "Requirement already satisfied: kiwisolver>=1.0.1 in /usr/local/lib/python3.7/dist-packages (from matplotlib->catboost) (1.4.4)\n",
            "Requirement already satisfied: typing-extensions in /usr/local/lib/python3.7/dist-packages (from kiwisolver>=1.0.1->matplotlib->catboost) (4.1.1)\n",
            "Requirement already satisfied: tenacity>=6.2.0 in /usr/local/lib/python3.7/dist-packages (from plotly->catboost) (8.0.1)\n",
            "Installing collected packages: catboost\n",
            "Successfully installed catboost-1.0.6\n"
          ]
        }
      ],
      "source": [
        "!pip install catboost"
      ]
    },
    {
      "cell_type": "code",
      "execution_count": 43,
      "metadata": {
        "colab": {
          "base_uri": "https://localhost:8080/"
        },
        "id": "5DCHOdQ7VJh4",
        "outputId": "02d505e7-e805-402e-ef88-d893a2c6884b"
      },
      "outputs": [
        {
          "output_type": "stream",
          "name": "stdout",
          "text": [
            "Looking in indexes: https://pypi.org/simple, https://us-python.pkg.dev/colab-wheels/public/simple/\n",
            "Requirement already satisfied: xgboost in /usr/local/lib/python3.7/dist-packages (0.90)\n",
            "Requirement already satisfied: scipy in /usr/local/lib/python3.7/dist-packages (from xgboost) (1.7.3)\n",
            "Requirement already satisfied: numpy in /usr/local/lib/python3.7/dist-packages (from xgboost) (1.21.6)\n"
          ]
        }
      ],
      "source": [
        "!pip install xgboost"
      ]
    },
    {
      "cell_type": "code",
      "execution_count": 44,
      "metadata": {
        "id": "bttki-PmVOXL"
      },
      "outputs": [],
      "source": [
        "from catboost import CatBoostRegressor\n",
        "from xgboost import XGBRegressor"
      ]
    },
    {
      "cell_type": "code",
      "execution_count": 45,
      "metadata": {
        "colab": {
          "base_uri": "https://localhost:8080/"
        },
        "id": "LcO-fTmmVYtL",
        "outputId": "7d44ffc1-88a4-48b0-fb1a-dd9f4d1209af"
      },
      "outputs": [
        {
          "output_type": "stream",
          "name": "stdout",
          "text": [
            "mse: 26.19586189836618\n",
            "rmse: 5.118189318339659\n",
            "mae: 3.4250339399368577\n"
          ]
        }
      ],
      "source": [
        "cat = CatBoostRegressor(iterations=4000, learning_rate=0.01, depth=None, l2_leaf_reg=None, \n",
        "                        model_size_reg=None, rsm=None, loss_function='MAE', early_stopping_rounds=50,\n",
        "                        random_state=7, verbose=False)\n",
        "cat.fit(train_X, train_y)\n",
        "cat_pred = cat.predict(test_X)\n",
        "\n",
        "print(f'mse: {mean_squared_error(cat_pred, test_y)}')\n",
        "print(f'rmse: {mean_squared_error(cat_pred, test_y, squared=False)}')\n",
        "print(f'mae: {mean_absolute_error(cat_pred, test_y)}')"
      ]
    },
    {
      "cell_type": "code",
      "execution_count": 46,
      "metadata": {
        "colab": {
          "base_uri": "https://localhost:8080/"
        },
        "id": "LSHeqxJtVj62",
        "outputId": "f0318b7c-071c-42cb-8568-f12cea3742f9"
      },
      "outputs": [
        {
          "output_type": "stream",
          "name": "stdout",
          "text": [
            "[16:13:23] WARNING: /workspace/src/objective/regression_obj.cu:152: reg:linear is now deprecated in favor of reg:squarederror.\n",
            "mse: 24.288634830767933\n",
            "rmse: 4.928350112438029\n",
            "mae: 3.2118743171235042\n"
          ]
        }
      ],
      "source": [
        "xgb = XGBRegressor(n_estimators=1000, learning_rate=0.02, max_depth=10,\n",
        "                        random_state=7, colsample_bylevel=0.7, scale_pos_weight=0.5,)\n",
        "xgb.fit(train_X, train_y)\n",
        "xgb_pred = xgb.predict(test_X)\n",
        "\n",
        "print(f'mse: {mean_squared_error(xgb_pred, test_y)}')\n",
        "print(f'rmse: {mean_squared_error(xgb_pred, test_y, squared=False)}')\n",
        "print(f'mae: {mean_absolute_error(xgb_pred, test_y)}')"
      ]
    },
    {
      "cell_type": "code",
      "execution_count": 47,
      "metadata": {
        "id": "HhkuBruoXrqh"
      },
      "outputs": [],
      "source": [
        "from lightgbm import LGBMRegressor"
      ]
    },
    {
      "cell_type": "code",
      "execution_count": 48,
      "metadata": {
        "colab": {
          "base_uri": "https://localhost:8080/"
        },
        "id": "KZqtRQf4btHa",
        "outputId": "ea21c148-6ebd-48a1-b960-b842e2746bdb"
      },
      "outputs": [
        {
          "output_type": "stream",
          "name": "stdout",
          "text": [
            "mse: 24.486999994363195\n",
            "rmse: 4.948434095182353\n",
            "mae: 3.296263262309079\n"
          ]
        }
      ],
      "source": [
        "lgb = LGBMRegressor(learning_rate=0.0176, n_estimators=3000, max_depth=-1, random_state=7,)\n",
        "lgb.fit(train_X, train_y)\n",
        "lgb_pred = lgb.predict(test_X)\n",
        "\n",
        "print(f'mse: {mean_squared_error(lgb_pred, test_y)}')\n",
        "print(f'rmse: {mean_squared_error(lgb_pred, test_y, squared=False)}')\n",
        "print(f'mae: {mean_absolute_error(lgb_pred, test_y)}')"
      ]
    },
    {
      "cell_type": "code",
      "execution_count": 49,
      "metadata": {
        "colab": {
          "base_uri": "https://localhost:8080/"
        },
        "id": "R2XQ7jeGcXmv",
        "outputId": "73fcd4e7-4f39-4a59-87c7-23323539d620"
      },
      "outputs": [
        {
          "output_type": "stream",
          "name": "stdout",
          "text": [
            "3.338699842634653\n"
          ]
        }
      ],
      "source": [
        "with mlflow.start_run():\n",
        "\n",
        "    param = {\n",
        "       'learning_rate':0.0136, \n",
        "        'n_estimators':4000, \n",
        "        'max_depth':-1, \n",
        "        'random_state':7\n",
        "    }\n",
        "    \n",
        "    mlflow.log_param(\"param\", param)\n",
        "\n",
        "    lgb = LGBMRegressor(**param)\n",
        "    lgb.fit(train_X, train_y)\n",
        "    lgb_pred = lgb.predict(test_X)\n",
        "\n",
        "    \n",
        "    mae = mean_absolute_error(test_y, lgb_pred)\n",
        "    print(mae)\n",
        "    mlflow.log_metric(\"mae\", mae)"
      ]
    },
    {
      "cell_type": "code",
      "execution_count": 50,
      "metadata": {
        "colab": {
          "base_uri": "https://localhost:8080/"
        },
        "id": "xAYsrEi3lBtd",
        "outputId": "3a57ab92-8403-4cfe-84a9-4c3fa6acf7bf"
      },
      "outputs": [
        {
          "output_type": "stream",
          "name": "stdout",
          "text": [
            "[16:13:50] WARNING: /workspace/src/objective/regression_obj.cu:152: reg:linear is now deprecated in favor of reg:squarederror.\n",
            "fold 0: 3.815844070178836\n",
            "[16:14:15] WARNING: /workspace/src/objective/regression_obj.cu:152: reg:linear is now deprecated in favor of reg:squarederror.\n",
            "fold 1: 2.9257512348324224\n",
            "[16:14:29] WARNING: /workspace/src/objective/regression_obj.cu:152: reg:linear is now deprecated in favor of reg:squarederror.\n",
            "fold 2: 3.0164796999712897\n",
            "[16:14:51] WARNING: /workspace/src/objective/regression_obj.cu:152: reg:linear is now deprecated in favor of reg:squarederror.\n",
            "fold 3: 5.151387529799392\n",
            "[16:14:53] WARNING: /workspace/src/objective/regression_obj.cu:152: reg:linear is now deprecated in favor of reg:squarederror.\n",
            "fold 4: 3.9813899123034227\n",
            "[16:15:19] WARNING: /workspace/src/objective/regression_obj.cu:152: reg:linear is now deprecated in favor of reg:squarederror.\n",
            "fold 5: 3.5273427380901086\n",
            "[16:15:44] WARNING: /workspace/src/objective/regression_obj.cu:152: reg:linear is now deprecated in favor of reg:squarederror.\n",
            "fold 6: 2.935850338441651\n",
            "3.6220065033738744\n"
          ]
        }
      ],
      "source": [
        "rf_score = []\n",
        "\n",
        "fold = KFold(n_splits=7)\n",
        "\n",
        "i=0\n",
        "for train_index, test_index in fold.split(X, y):\n",
        "  X_train, X_test = X.iloc[train_index], X.iloc[test_index]\n",
        "  y_train, y_test = y.iloc[train_index], y.iloc[test_index]\n",
        "\n",
        "  model = XGBRegressor(n_estimators=4000, learning_rate=0.01, max_depth=10,\n",
        "                        random_state=7, colsample_bylevel=0.7, scale_pos_weight=0.5)\n",
        "\n",
        "  model.fit(X_train, y_train, eval_set=[(X_train, y_train), (X_test, y_test)], early_stopping_rounds=200,eval_metric='mae', verbose=False)\n",
        "  preds = model.predict(X_test)\n",
        "\n",
        "  score = mean_absolute_error(y_test, preds)\n",
        "  print(f'fold {i}: {score}')\n",
        "  i += 1\n",
        "\n",
        "  rf_score.append(score)\n",
        "print(np.mean(rf_score))"
      ]
    },
    {
      "cell_type": "code",
      "execution_count": 51,
      "metadata": {
        "colab": {
          "base_uri": "https://localhost:8080/"
        },
        "id": "uQ34KCL-rAQ2",
        "outputId": "c4db6742-1476-4ea2-f915-74e6c3627416"
      },
      "outputs": [
        {
          "output_type": "execute_result",
          "data": {
            "text/plain": [
              "(2503, 11)"
            ]
          },
          "metadata": {},
          "execution_count": 51
        }
      ],
      "source": [
        "data.shape"
      ]
    },
    {
      "cell_type": "code",
      "execution_count": 58,
      "metadata": {
        "colab": {
          "base_uri": "https://localhost:8080/"
        },
        "id": "2rpwJK6qswFE",
        "outputId": "e2087f5f-3d55-4094-afee-b3e2e5af495c"
      },
      "outputs": [
        {
          "output_type": "stream",
          "name": "stdout",
          "text": [
            "fold 0: 3.9641433289223826\n",
            "fold 1: 3.084404827450216\n",
            "fold 2: 3.2682742502849282\n",
            "fold 3: 7.537232847674258\n",
            "fold 4: 4.200878482015747\n",
            "fold 5: 3.7699967973854\n",
            "fold 6: 5.7642967915828525\n",
            "4.512746760759398\n"
          ]
        }
      ],
      "source": [
        "rf_score = []\n",
        "\n",
        "fold = KFold(n_splits=7)\n",
        "\n",
        "i=0\n",
        "for train_index, test_index in fold.split(X, y):\n",
        "  X_train, X_test = X.iloc[train_index], X.iloc[test_index]\n",
        "  y_train, y_test = y.iloc[train_index], y.iloc[test_index]\n",
        "\n",
        "  model = LGBMRegressor(learning_rate=0.07, n_estimators=4000, max_depth=20, random_state=7,)\n",
        "\n",
        "  model.fit(X_train, y_train, eval_set=[(X_train, y_train), (X_test, y_test)], early_stopping_rounds=200,eval_metric='mae', verbose=False)\n",
        "  preds = model.predict(X_test)\n",
        "\n",
        "  score = mean_absolute_error(y_test, preds)\n",
        "  print(f'fold {i}: {score}')\n",
        "  i += 1\n",
        "\n",
        "  rf_score.append(score)\n",
        "print(np.mean(rf_score))"
      ]
    },
    {
      "cell_type": "code",
      "source": [
        "tat_score = []\n",
        "\n",
        "fold = KFold(n_splits=7)\n",
        "\n",
        "i=0\n",
        "for train_index, test_index in fold.split(X, y):\n",
        "  X_train, X_test = X.iloc[train_index], X.iloc[test_index]\n",
        "  y_train, y_test = y.iloc[train_index], y.iloc[test_index]\n",
        "\n",
        "  model = RandomForestRegressor(n_estimators=4000, max_depth=15, verbose=False, random_state=7,n_jobs=-1)\n",
        "\n",
        "  model.fit(X_train, y_train)\n",
        "  preds = model.predict(X_test)\n",
        "\n",
        "  score = mean_absolute_error(y_test, preds)\n",
        "  print(f'fold {i}: {score}')\n",
        "  i += 1\n",
        "\n",
        "  tat_score.append(score)\n",
        "print(np.mean(tat_score))"
      ],
      "metadata": {
        "colab": {
          "base_uri": "https://localhost:8080/"
        },
        "id": "reUlB80h5nmV",
        "outputId": "b3c007f6-970e-4e7d-87a0-07d0de37b4a6"
      },
      "execution_count": 59,
      "outputs": [
        {
          "output_type": "stream",
          "name": "stdout",
          "text": [
            "fold 0: 4.443805389670589\n",
            "fold 1: 3.044881545150204\n",
            "fold 2: 3.2273501971484566\n",
            "fold 3: 8.781232513252995\n",
            "fold 4: 4.251887992847552\n",
            "fold 5: 3.7247059446570727\n",
            "fold 6: 6.342755168075746\n",
            "4.8309455358289455\n"
          ]
        }
      ]
    },
    {
      "cell_type": "code",
      "source": [
        "asd_score = []\n",
        "\n",
        "fold = KFold(n_splits=7)\n",
        "\n",
        "i=0\n",
        "for train_index, test_index in fold.split(X, y):\n",
        "  X_train, X_test = X.iloc[train_index], X.iloc[test_index]\n",
        "  y_train, y_test = y.iloc[train_index], y.iloc[test_index]\n",
        "\n",
        "  model = CatBoostRegressor(iterations=4000, learning_rate=0.01, depth=None, l2_leaf_reg=None, \n",
        "                        model_size_reg=None, rsm=None, loss_function='MAE', early_stopping_rounds=50,\n",
        "                        random_state=7,)\n",
        "\n",
        "  model.fit(X_train, y_train, eval_set=[(X_train, y_train), (X_test, y_test)], early_stopping_rounds=200, verbose=False)\n",
        "  preds = model.predict(X_test)\n",
        "\n",
        "  score = mean_absolute_error(y_test, preds)\n",
        "  print(f'fold {i}: {score}')\n",
        "  i += 1\n",
        "\n",
        "  asd_score.append(score)\n",
        "print(np.mean(asd_score))"
      ],
      "metadata": {
        "colab": {
          "base_uri": "https://localhost:8080/"
        },
        "id": "OjnKY8-c6xNE",
        "outputId": "be008366-0cf1-4c3e-bebf-8f71c3e0ba8e"
      },
      "execution_count": 63,
      "outputs": [
        {
          "output_type": "stream",
          "name": "stdout",
          "text": [
            "fold 0: 4.110145155308608\n",
            "fold 1: 3.260577954122377\n",
            "fold 2: 3.948330456501675\n",
            "fold 3: 8.824350135185083\n",
            "fold 4: 4.175521732261441\n",
            "fold 5: 3.4212628263629083\n",
            "fold 6: 7.572567355976046\n",
            "5.04467937367402\n"
          ]
        }
      ]
    },
    {
      "cell_type": "code",
      "source": [
        "wer_score = []\n",
        "\n",
        "fold = KFold(n_splits=7)\n",
        "\n",
        "i=0\n",
        "for train_index, test_index in fold.split(X, y):\n",
        "  X_train, X_test = X.iloc[train_index], X.iloc[test_index]\n",
        "  y_train, y_test = y.iloc[train_index], y.iloc[test_index]\n",
        "\n",
        "  model = GradientBoostingRegressor(n_estimators=4000, learning_rate=0.09, random_state=7, tol=0.001, max_depth=10)\n",
        "\n",
        "  model.fit(X_train, y_train,)\n",
        "  preds = model.predict(X_test)\n",
        "\n",
        "  score = mean_absolute_error(y_test, preds)\n",
        "  print(f'fold {i}: {score}')\n",
        "  i += 1\n",
        "\n",
        "  wer_score.append(score)\n",
        "print(np.mean(wer_score))"
      ],
      "metadata": {
        "colab": {
          "base_uri": "https://localhost:8080/"
        },
        "id": "v5lz6zxZ77OX",
        "outputId": "eb139ab9-231b-4074-97ef-9c400baed766"
      },
      "execution_count": null,
      "outputs": [
        {
          "output_type": "stream",
          "name": "stdout",
          "text": [
            "fold 0: 4.67045153059981\n"
          ]
        }
      ]
    },
    {
      "cell_type": "code",
      "source": [
        ""
      ],
      "metadata": {
        "id": "s-5REIcV81z1"
      },
      "execution_count": null,
      "outputs": []
    }
  ],
  "metadata": {
    "colab": {
      "name": "team deep learning.ipynb",
      "provenance": [],
      "collapsed_sections": [
        "GZjtmSbCO3ZX",
        "ChHkRWFGPfcL",
        "tVs0XutCf7yw"
      ]
    },
    "kernelspec": {
      "display_name": "Python 3",
      "name": "python3"
    },
    "language_info": {
      "name": "python"
    }
  },
  "nbformat": 4,
  "nbformat_minor": 0
}